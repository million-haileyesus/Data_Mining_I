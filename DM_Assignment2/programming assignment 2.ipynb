{
 "cells": [
  {
   "cell_type": "code",
   "execution_count": 11,
   "id": "03e151ff",
   "metadata": {},
   "outputs": [],
   "source": [
    "import glob\n",
    "import os\n",
    "import random\n",
    "import cv2 as cv\n",
    "import numpy as np\n",
    "import scipy\n",
    "from matplotlib import pyplot as plt\n",
    "from sklearn.naive_bayes import GaussianNB"
   ]
  },
  {
   "cell_type": "code",
   "execution_count": 12,
   "id": "eae6bf96",
   "metadata": {},
   "outputs": [],
   "source": [
    "def grayscale_conversion():\n",
    "    folders = [\"n02102318-cocker_spaniel\", \"n02105056-groenendael\", \"n02106382-Bouvier_des_Flandres\",\n",
    "               \"n02107574-Greater_Swiss_Mountain_dog\"]\n",
    "    \n",
    "    no_of_images = []\n",
    "    for folder in folders:\n",
    "        files = [f for f in os.listdir(f\"../Cropped/{folder}\") if os.path.isfile(os.path.join(f\"../Cropped/{folder}\", f))]\n",
    "        no_of_images.append(len(files))\n",
    "    \n",
    "    collect = {}\n",
    "    for folder, count in zip(folders, no_of_images):\n",
    "        all_files = os.listdir(f\"../Cropped/{folder}\")\n",
    "        collect[folder] = all_files\n",
    "        \n",
    "    \n",
    "    grayscaled_images = {}\n",
    "    for folder, images in collect.items():\n",
    "        combine = []\n",
    "        for img in images:\n",
    "            path = f\"../Cropped/{folder}/{img}\"\n",
    "            loaded_image = cv.imread(path)\n",
    "            combine.append(cv.cvtColor(loaded_image, cv.COLOR_BGR2GRAY))\n",
    "        grayscaled_images[folder] = combine\n",
    "    \n",
    "    return grayscaled_images "
   ]
  },
  {
   "cell_type": "code",
   "execution_count": 13,
   "id": "ef7af4a6",
   "metadata": {},
   "outputs": [],
   "source": [
    "def standardize_dataset():\n",
    "    grayscaled_images = grayscale_conversion()\n",
    "        \n",
    "    standardized_images = {}\n",
    "    for folder, images in grayscaled_images.items():\n",
    "        combine = []\n",
    "        for img in images:\n",
    "            assert img is not None\n",
    "            histogram, bins = np.histogram(img.flatten(), 256, [0,256])\n",
    "            histogram = histogram / histogram.sum().ravel()\n",
    "            combine.append(histogram)\n",
    "        standardized_images[folder] = combine\n",
    "    \n",
    "    return standardized_images"
   ]
  },
  {
   "cell_type": "code",
   "execution_count": 14,
   "id": "09d66b41",
   "metadata": {},
   "outputs": [],
   "source": [
    "def split_dataset():\n",
    "    standardized_images = standardize_dataset()\n",
    "    \n",
    "    training_set = {}\n",
    "    test_set = {}\n",
    "    for folder in standardized_images:\n",
    "        perce_80 = int(len(standardized_images[folder]) * 0.8)\n",
    "        training_set[folder] = random.sample(standardized_images[folder], perce_80)\n",
    "    \n",
    "    for folder, images in standardized_images.items():\n",
    "        combine = []\n",
    "        for img in images:\n",
    "            if not np.all(np.equal(img, training_set[folder]), axis=1).any():\n",
    "                combine.append(img)             \n",
    "        test_set[folder] = combine\n",
    "    \n",
    "    return training_set, test_set"
   ]
  },
  {
   "cell_type": "code",
   "execution_count": 19,
   "id": "26424ece",
   "metadata": {},
   "outputs": [],
   "source": [
    "def summ(train, test):\n",
    "    count = 0\n",
    "    for tr, te in enumerate(train, test):\n",
    "        if tr == te:\n",
    "            count += 1\n",
    "    return count\n",
    "\n",
    "def naive_bayes_classifier():\n",
    "    training_set, test_set = split_dataset()\n",
    "    gnb = GaussianNB()\n",
    "    for folder, images in training_set.items():\n",
    "        y_pred = gnb.fit(training_set[folder]).predit(test_setfolder)\n",
    "        print(f\"Number of mislabeled points out of a total {len(images)} points: {summ(images, test_set[folder])}\")\n",
    "\n",
    "naive_bayes_classifier()"
   ]
  },
  {
   "cell_type": "code",
   "execution_count": null,
   "id": "9309a3a2",
   "metadata": {},
   "outputs": [],
   "source": []
  }
 ],
 "metadata": {
  "kernelspec": {
   "display_name": "Python 3 (ipykernel)",
   "language": "python",
   "name": "python3"
  },
  "language_info": {
   "codemirror_mode": {
    "name": "ipython",
    "version": 3
   },
   "file_extension": ".py",
   "mimetype": "text/x-python",
   "name": "python",
   "nbconvert_exporter": "python",
   "pygments_lexer": "ipython3",
   "version": "3.10.9"
  }
 },
 "nbformat": 4,
 "nbformat_minor": 5
}
