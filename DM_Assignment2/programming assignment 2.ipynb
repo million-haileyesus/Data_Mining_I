{
 "cells": [
  {
   "cell_type": "code",
   "execution_count": 1,
   "id": "03e151ff",
   "metadata": {},
   "outputs": [],
   "source": [
    "import os\n",
    "import random\n",
    "import cv2 as cv\n",
    "import numpy as np\n",
    "from matplotlib import pyplot as plt\n",
    "from sklearn.ensemble import AdaBoostClassifier\n",
    "from sklearn.metrics import ConfusionMatrixDisplay, confusion_matrix\n",
    "from sklearn.model_selection import KFold, StratifiedKFold\n",
    "from sklearn.naive_bayes import GaussianNB\n",
    "from sklearn.neighbors import KNeighborsClassifier\n",
    "from sklearn.neural_network import MLPClassifier\n",
    "from sklearn.preprocessing import StandardScaler"
   ]
  },
  {
   "cell_type": "code",
   "execution_count": 2,
   "id": "eae6bf96",
   "metadata": {},
   "outputs": [],
   "source": [
    "def grayscale_conversion():\n",
    "    folders = [\"n02102318-cocker_spaniel\", \"n02105056-groenendael\", \"n02106382-Bouvier_des_Flandres\",\n",
    "               \"n02107574-Greater_Swiss_Mountain_dog\"]\n",
    "    \n",
    "    no_of_images = []\n",
    "    for folder in folders:\n",
    "        files = [f for f in os.listdir(f\"../Cropped/{folder}\") if os.path.isfile(os.path.join(f\"../Cropped/{folder}\", f))]\n",
    "        no_of_images.append(len(files))\n",
    "\n",
    "    collect = {}\n",
    "    for folder, count in zip(folders, no_of_images):\n",
    "        all_files = os.listdir(f\"../Cropped/{folder}\")\n",
    "        collect[folder] = all_files\n",
    "        \n",
    "    \n",
    "    grayscaled_images = {}\n",
    "    for folder, images in collect.items():\n",
    "        combine = []\n",
    "        for img in images:\n",
    "            path = f\"../Cropped/{folder}/{img}\"\n",
    "            loaded_image = cv.imread(path)\n",
    "            combine.append(cv.cvtColor(loaded_image, cv.COLOR_BGR2GRAY))\n",
    "        grayscaled_images[folder] = combine\n",
    "    \n",
    "    return grayscaled_images "
   ]
  },
  {
   "cell_type": "code",
   "execution_count": 3,
   "id": "ef7af4a6",
   "metadata": {},
   "outputs": [],
   "source": [
    "def standardized_dataset():\n",
    "    grayscaled_images = grayscale_conversion()\n",
    "        \n",
    "    standardized_images = {}\n",
    "    for folder, images in grayscaled_images.items():\n",
    "        combine = []\n",
    "        for img in images:\n",
    "            scaler = StandardScaler()\n",
    "            combine.append(scaler.fit_transform(img))\n",
    "        standardized_images[folder] = combine\n",
    "    \n",
    "    return standardized_images"
   ]
  },
  {
   "cell_type": "code",
   "execution_count": 4,
   "id": "09d66b41",
   "metadata": {},
   "outputs": [],
   "source": [
    "def split_dataset():\n",
    "    standardized_images = standardized_dataset()\n",
    "    \n",
    "    training_set = {}\n",
    "    testing_set = {}\n",
    "    for folder in standardized_images:\n",
    "        perce_80 = int(len(standardized_images[folder]) * 0.8)\n",
    "        training_set[folder] = random.sample(standardized_images[folder], perce_80)\n",
    " \n",
    "    for folder, images in standardized_images.items():\n",
    "        combine = []\n",
    "        for img in images:\n",
    "            if not np.all(np.equal(img, training_set[folder]), axis=1).any():\n",
    "                combine.append(img)             \n",
    "        testing_set[folder] = combine\n",
    "    \n",
    "    return training_set, testing_set"
   ]
  },
  {
   "cell_type": "code",
   "execution_count": 5,
   "id": "92aa3036",
   "metadata": {},
   "outputs": [],
   "source": [
    "def train_test_split():\n",
    "    training_set, testing_set = split_dataset()\n",
    "    \n",
    "    X_train, y_train, X_test, y_test = ([] for i in range(4))\n",
    "    \n",
    "    count = 0\n",
    "    for training_folder in training_set:\n",
    "        for training_image in training_set[training_folder]:\n",
    "            X_train.append(training_image.ravel())\n",
    "            y_train.append(count)\n",
    "        count += 1\n",
    "    \n",
    "    count = 0\n",
    "    for testing_folder in testing_set:\n",
    "        for testing_image in testing_set[testing_folder]:\n",
    "            X_test.append(testing_image.ravel())\n",
    "            y_test.append(count)\n",
    "        count += 1\n",
    "    \n",
    "    X_train = np.array(X_train)\n",
    "    y_train = np.array(y_train)\n",
    "    X_test = np.array(X_test)\n",
    "    y_test = np.array(y_test)\n",
    "    \n",
    "    return X_train, y_train, X_test, y_test"
   ]
  },
  {
   "cell_type": "code",
   "execution_count": null,
   "id": "618960d2",
   "metadata": {},
   "outputs": [],
   "source": [
    "def knn_classifier():\n",
    "    X_train, y_train, X_test, y_test = train_test_split()\n",
    "    kf = KFold(n_splits=5)\n",
    "    skf = StratifiedKFold(n_splits=5)\n",
    "    \n",
    "    no_neighbors = [1, 3, 5, 7, 10, 20]\n",
    "\n",
    "    testing_standard_fold_results = []\n",
    "    training_standard_fold_results = []\n",
    "    testing_stratified_fold_results = []\n",
    "    training_stratified_fold_results = []\n",
    "    \n",
    "    for k in no_neighbors:\n",
    "        knn = KNeighborsClassifier(k)\n",
    "        \n",
    "        scores = []\n",
    "        for train_index, test_index in kf.split(X_train, y_train):\n",
    "            X_tr, X_te = X_train[train_index], X_train[test_index]\n",
    "            y_tr, y_te = y_train[train_index], y_train[test_index]\n",
    "            \n",
    "            knn.fit(X_tr, y_tr)\n",
    "            scores.append(knn.score(X_te, y_te))\n",
    "            \n",
    "        training_standard_fold_results.append(np.mean(scores))\n",
    "        \n",
    "        scores = []\n",
    "        for train_index, test_index in kf.split(X_test, y_test):\n",
    "            X_tr, X_te = X_test[train_index], X_test[test_index]\n",
    "            y_tr, y_te = y_test[train_index], y_test[test_index]\n",
    "            \n",
    "            knn.fit(X_tr, y_tr)\n",
    "            scores.append(knn.score(X_te, y_te))\n",
    "        \n",
    "        testing_standard_fold_results.append(np.mean(scores))\n",
    "        \n",
    "    \n",
    "    for k in no_neighbors:\n",
    "        knn = KNeighborsClassifier(k)\n",
    "        \n",
    "        scores = []\n",
    "        for train_index, test_index in skf.split(X_train, y_train):\n",
    "            X_tr, X_te = X_train[train_index], X_train[test_index]\n",
    "            y_tr, y_te = y_train[train_index], y_train[test_index]\n",
    "            \n",
    "            knn.fit(X_tr, y_tr)\n",
    "            scores.append(knn.score(X_te, y_te))\n",
    "            \n",
    "        training_stratified_fold_results.append(np.mean(scores))\n",
    "        \n",
    "        scores = []\n",
    "        for train_index, test_index in skf.split(X_test, y_test):\n",
    "            X_tr, X_te = X_test[train_index], X_test[test_index]\n",
    "            y_tr, y_te = y_test[train_index], y_test[test_index]\n",
    "            \n",
    "            knn.fit(X_tr, y_tr)\n",
    "            scores.append(knn.score(X_te, y_te))\n",
    "        \n",
    "        testing_stratified_fold_results.append(np.mean(scores))\n",
    "        \n",
    "    \n",
    "    for i, j in zip(no_neighbors, training_standard_fold_results):\n",
    "        print(f\"Result for training standard 5-fold with k = {i}: {j:0.2f}\")\n",
    "    print(\"\\n\")\n",
    "    \n",
    "    for i, j in zip(no_neighbors, testing_standard_fold_results):\n",
    "        print(f\"Result for testing standard 5-fold with k = {i}: {j:0.2f}\")\n",
    "    print(\"\\n\")\n",
    "    \n",
    "    for i, j in zip(no_neighbors, training_stratified_fold_results):\n",
    "        print(f\"Result for training stratified 5-fold with k = {i}: {j:0.2f}\")\n",
    "    print(\"\\n\")\n",
    "    \n",
    "    for i, j in zip(no_neighbors, testing_stratified_fold_results):\n",
    "        print(f\"Result for testing stratified 5-fold with k = {i}: {j:0.2f}\")\n",
    "    \n",
    "    plt.plot(no_neighbors, training_standard_fold_results)\n",
    "    plt.plot(no_neighbors, testing_standard_fold_results, linestyle=\":\")\n",
    "    plt.plot(no_neighbors, training_stratified_fold_results)\n",
    "    plt.plot(no_neighbors, testing_stratified_fold_results, linestyle=\":\")\n",
    "#     plt.title()\n",
    "    plt.xlabel(\"k\")\n",
    "    plt.ylabel(\"mean validation/training error (%)\")\n",
    "    plt.grid(True)\n",
    "    plt.legend((\"Training standard fold\", \"Testing standard fold\", \"Training stratified fold\", \"Testing stratified fold\"), \n",
    "               loc = \"upper right\")\n",
    "    plt.show()\n",
    "    \n",
    "knn_classifier()"
   ]
  },
  {
   "cell_type": "code",
   "execution_count": 7,
   "id": "26424ece",
   "metadata": {
    "scrolled": false
   },
   "outputs": [
    {
     "name": "stdout",
     "output_type": "stream",
     "text": [
      "0.55\n"
     ]
    },
    {
     "data": {
      "image/png": "[encoded data removed]",
      "text/plain": [
       "<Figure size 640x480 with 2 Axes>"
      ]
     },
     "metadata": {},
     "output_type": "display_data"
    }
   ],
   "source": [
    "def naive_bayes_classifier():\n",
    "    X_train, y_train, X_test, y_test = train_test_split()\n",
    "    gnb = GaussianNB()\n",
    "    skf = StratifiedKFold(n_splits=5, shuffle=True)\n",
    "    \n",
    "    scores = []\n",
    "#     confu_matrix = []\n",
    "    for train_index, test_index in skf.split(X_train, y_train):\n",
    "        X_tr, X_te = X_train[train_index], X_train[test_index]\n",
    "        y_tr, y_te = y_train[train_index], y_train[test_index]\n",
    "        \n",
    "        gnb.fit(X_tr, y_tr)\n",
    "#         y_pred = gnb.predict(X_te)\n",
    "#         confu_matrix.append(y_pred)\n",
    "        scores.append(gnb.score(X_te, y_te))\n",
    "    \n",
    "    result = np.mean(scores)\n",
    "    print(f\"{result:0.2f}\")\n",
    "    \n",
    "    y_pred = gnb.predict(X_test)\n",
    "    cm = confusion_matrix(y_test, y_pred)\n",
    "    cm_display = ConfusionMatrixDisplay(cm).plot()\n",
    "    \n",
    "naive_bayes_classifier()"
   ]
  },
  {
   "cell_type": "code",
   "execution_count": 8,
   "id": "49fc36f8",
   "metadata": {
    "scrolled": false
   },
   "outputs": [
    {
     "name": "stderr",
     "output_type": "stream",
     "text": [
      "C:\\Users\\noill\\AppData\\Local\\Programs\\Python\\Python310\\lib\\site-packages\\sklearn\\neural_network\\_multilayer_perceptron.py:691: ConvergenceWarning: Stochastic Optimizer: Maximum iterations (200) reached and the optimization hasn't converged yet.\n",
      "  warnings.warn(\n",
      "C:\\Users\\noill\\AppData\\Local\\Programs\\Python\\Python310\\lib\\site-packages\\sklearn\\neural_network\\_multilayer_perceptron.py:691: ConvergenceWarning: Stochastic Optimizer: Maximum iterations (200) reached and the optimization hasn't converged yet.\n",
      "  warnings.warn(\n",
      "C:\\Users\\noill\\AppData\\Local\\Programs\\Python\\Python310\\lib\\site-packages\\sklearn\\neural_network\\_multilayer_perceptron.py:691: ConvergenceWarning: Stochastic Optimizer: Maximum iterations (200) reached and the optimization hasn't converged yet.\n",
      "  warnings.warn(\n"
     ]
    },
    {
     "name": "stdout",
     "output_type": "stream",
     "text": [
      "0.46\n"
     ]
    },
    {
     "data": {
      "image/png": "[encoded data removed]",
      "text/plain": [
       "<Figure size 640x480 with 2 Axes>"
      ]
     },
     "metadata": {},
     "output_type": "display_data"
    }
   ],
   "source": [
    "def neural_network_classifier():\n",
    "    X_train, y_train, X_test, y_test = train_test_split()\n",
    "    clf = MLPClassifier(hidden_layer_sizes=(10, 10, 10))\n",
    "    skf = StratifiedKFold(n_splits=5, shuffle=True)\n",
    "    \n",
    "    scores = []\n",
    "    confu_matrix = []\n",
    "    for train_index, test_index in skf.split(X_train, y_train):\n",
    "        X_tr, X_te = X_train[train_index], X_train[test_index]\n",
    "        y_tr, y_te = y_train[train_index], y_train[test_index]\n",
    "    \n",
    "        clf.fit(X_tr, y_tr)\n",
    "#         y_pred = clf.predict(X_te)\n",
    "        \n",
    "#         confu_matrix.extend(y_pred)\n",
    "        scores.append(clf.score(X_te, y_te))\n",
    "        \n",
    "    result = np.mean(scores)\n",
    "    print(f\"{result:0.2f}\")\n",
    "    \n",
    "    y_pred = clf.predict(X_test)\n",
    "    cm = confusion_matrix(y_test, y_pred)\n",
    "    cm_display = ConfusionMatrixDisplay(cm).plot()\n",
    "    \n",
    "neural_network_classifier()"
   ]
  },
  {
   "cell_type": "code",
   "execution_count": 10,
   "id": "9309a3a2",
   "metadata": {},
   "outputs": [
    {
     "name": "stdout",
     "output_type": "stream",
     "text": [
      "0.40\n"
     ]
    },
    {
     "data": {
      "image/png": "[encoded data removed]",
      "text/plain": [
       "<Figure size 640x480 with 2 Axes>"
      ]
     },
     "metadata": {},
     "output_type": "display_data"
    }
   ],
   "source": [
    "def ada_boost_classifier():\n",
    "    X_train, y_train, X_test, y_test = train_test_split()\n",
    "    ada = AdaBoostClassifier()\n",
    "    skf = StratifiedKFold(n_splits=2, shuffle=True)\n",
    "    \n",
    "    scores = []\n",
    "    confu_matrix = []\n",
    "    for train_index, test_index in skf.split(X_train, y_train):\n",
    "        X_tr, X_te = X_train[train_index], X_train[test_index]\n",
    "        y_tr, y_te = y_train[train_index], y_train[test_index]\n",
    "    \n",
    "        ada.fit(X_tr, y_tr)\n",
    "#         y_pred = ada.predict(X_te)\n",
    "        \n",
    "#         confu_matrix.extend(y_pred)\n",
    "        scores.append(ada.score(X_te, y_te))\n",
    "        \n",
    "    result = np.mean(scores)\n",
    "    print(f\"{result:0.2f}\")\n",
    "    \n",
    "    y_pred = ada.predict(X_test)\n",
    "    cm = confusion_matrix(y_test, y_pred)\n",
    "    cm_display = ConfusionMatrixDisplay(cm).plot()\n",
    "    \n",
    "ada_boost_classifier()"
   ]
  },
  {
   "cell_type": "code",
   "execution_count": null,
   "id": "303751bf",
   "metadata": {},
   "outputs": [],
   "source": []
  }
 ],
 "metadata": {
  "kernelspec": {
   "display_name": "Python 3 (ipykernel)",
   "language": "python",
   "name": "python3"
  },
  "language_info": {
   "codemirror_mode": {
    "name": "ipython",
    "version": 3
   },
   "file_extension": ".py",
   "mimetype": "text/x-python",
   "name": "python",
   "nbconvert_exporter": "python",
   "pygments_lexer": "ipython3",
   "version": "3.10.9"
  }
 },
 "nbformat": 4,
 "nbformat_minor": 5
}
