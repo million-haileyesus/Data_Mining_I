{
 "cells": [
  {
   "cell_type": "code",
   "execution_count": 2,
   "id": "03e151ff",
   "metadata": {},
   "outputs": [],
   "source": [
    "import glob\n",
    "import os\n",
    "import random\n",
    "import xml.etree.ElementTree as ET\n",
    "from pathlib import Path\n",
    "import cv2 as cv\n",
    "import numpy as np\n",
    "import scipy\n",
    "from PIL import Image\n",
    "from matplotlib import pyplot as plt\n",
    "from sklearn.decomposition import PCA"
   ]
  },
  {
   "cell_type": "code",
   "execution_count": 31,
   "id": "eae6bf96",
   "metadata": {},
   "outputs": [],
   "source": [
    "def grayscale_conversion():\n",
    "    folders = [\"n02102318-cocker_spaniel\", \"n02105056-groenendael\", \"n02106382-Bouvier_des_Flandres\",\n",
    "               \"n02107574-Greater_Swiss_Mountain_dog\"]\n",
    "    \n",
    "    no_of_images = []\n",
    "    for folder in folders:\n",
    "        files = [f for f in os.listdir(f\"../Cropped/{folder}\") if os.path.isfile(os.path.join(f\"../Cropped/{folder}\", f))]\n",
    "        no_of_images.append(len(files))\n",
    "    \n",
    "    collect = {}\n",
    "    for folder, count in zip(folders, no_of_images):\n",
    "        all_files = os.listdir(f\"../Cropped/{folder}\")\n",
    "        collect[folder] = all_files\n",
    "        \n",
    "    \n",
    "    grayscaled_images = {}\n",
    "    for folder, images in collect.items():\n",
    "        combine = []\n",
    "        for img in images:\n",
    "            path = f\"../Cropped/{folder}/{img}\"\n",
    "            loaded_image = cv.imread(path)\n",
    "            combine.append(cv.cvtColor(loaded_image, cv.COLOR_BGR2GRAY))\n",
    "        grayscaled_images[folder] = combine\n",
    "    \n",
    "    return grayscaled_images     "
   ]
  },
  {
   "cell_type": "code",
   "execution_count": 32,
   "id": "ef7af4a6",
   "metadata": {},
   "outputs": [],
   "source": [
    "def standardize_dataset():\n",
    "    grayscaled_images = grayscale_conversion()\n",
    "        \n",
    "    standardized_images = {}\n",
    "    for folder, images in grayscaled_images.items():\n",
    "        combine = []\n",
    "        for img in images:\n",
    "            assert img is not None\n",
    "            histogram, bins = np.histogram(img.flatten(), 256, [0,256])\n",
    "            histogram = histogram / histogram.sum().ravel()\n",
    "            combine.append(histogram)\n",
    "        standardized_images[folder] = combine\n",
    "    \n",
    "    return standardized_images"
   ]
  },
  {
   "cell_type": "code",
   "execution_count": 39,
   "id": "09d66b41",
   "metadata": {},
   "outputs": [
    {
     "name": "stdout",
     "output_type": "stream",
     "text": [
      "33\n",
      "31\n",
      "32\n",
      "36\n",
      "130\n",
      "121\n",
      "124\n",
      "144\n"
     ]
    }
   ],
   "source": [
    "def split_dataset():\n",
    "    standardized_images = standardize_dataset()\n",
    "    \n",
    "    training_set = {}\n",
    "    test_set = {}\n",
    "    for folder in standardized_images:\n",
    "        perce_80 = int(len(standardized_images[folder]) * 0.8)\n",
    "        training_set[folder] = random.sample(standardized_images[folder], perce_80)\n",
    "    \n",
    "    for folder, images in standardized_images.items():\n",
    "        combine = []\n",
    "        for img in images:\n",
    "            if not np.all(np.equal(img, training_set[folder]), axis=1).any():\n",
    "                combine.append(img)             \n",
    "        test_set[folder] = combine\n",
    "    \n",
    "split_dataset()"
   ]
  },
  {
   "cell_type": "code",
   "execution_count": null,
   "id": "7a678b7b",
   "metadata": {},
   "outputs": [],
   "source": []
  }
 ],
 "metadata": {
  "kernelspec": {
   "display_name": "Python 3 (ipykernel)",
   "language": "python",
   "name": "python3"
  },
  "language_info": {
   "codemirror_mode": {
    "name": "ipython",
    "version": 3
   },
   "file_extension": ".py",
   "mimetype": "text/x-python",
   "name": "python",
   "nbconvert_exporter": "python",
   "pygments_lexer": "ipython3",
   "version": "3.10.9"
  }
 },
 "nbformat": 4,
 "nbformat_minor": 5
}
