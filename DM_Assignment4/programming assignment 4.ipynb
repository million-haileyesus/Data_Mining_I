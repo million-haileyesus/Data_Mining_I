{
 "cells": [
  {
   "cell_type": "code",
   "execution_count": 1,
   "id": "6ccec6db",
   "metadata": {},
   "outputs": [],
   "source": [
    "import os\n",
    "import random\n",
    "import cv2 as cv\n",
    "import numpy as np\n",
    "from matplotlib import pyplot as plt\n",
    "from sklearn.cluster import AgglomerativeClustering, BisectingKMeans, DBSCAN, KMeans, SpectralClustering\n",
    "from sklearn.decomposition import PCA\n",
    "from sklearn.preprocessing import MinMaxScaler"
   ]
  },
  {
   "cell_type": "code",
   "execution_count": null,
   "id": "63514575",
   "metadata": {},
   "outputs": [],
   "source": []
  },
  {
   "cell_type": "code",
   "execution_count": null,
   "id": "6998d1ac",
   "metadata": {},
   "outputs": [],
   "source": []
  },
  {
   "cell_type": "code",
   "execution_count": null,
   "id": "8a4516ca",
   "metadata": {},
   "outputs": [],
   "source": [
    "def get_images():\n",
    "    folders = [\"n02102318-cocker_spaniel\", \"n02105056-groenendael\", \"n02106382-Bouvier_des_Flandres\",\n",
    "               \"n02107574-Greater_Swiss_Mountain_dog\"]\n",
    "    \n",
    "    no_of_images = []\n",
    "    for folder in folders:\n",
    "        files = [f for f in os.listdir(f\"../Cropped/{folder}\") if os.path.isfile(os.path.join(f\"../Cropped/{folder}\", f))]\n",
    "        no_of_images.append(len(files))\n",
    "\n",
    "    collection = {}\n",
    "    for folder, count in zip(folders, no_of_images):\n",
    "        all_files = os.listdir(f\"../Cropped/{folder}\")\n",
    "        collection[folder] = all_files     \n",
    "    \n",
    "    return collection"
   ]
  },
  {
   "cell_type": "code",
   "execution_count": null,
   "id": "da2d6577",
   "metadata": {},
   "outputs": [],
   "source": [
    "def grayscale_conversion():\n",
    "    collection = get_images()       \n",
    "    \n",
    "    grayscaled_images = {}\n",
    "    for folder, images in collection.items():\n",
    "        combine = []\n",
    "        for img in images:\n",
    "            path = f\"../Cropped/{folder}/{img}\"\n",
    "            loaded_image = cv.imread(path)\n",
    "            combine.append(cv.cvtColor(loaded_image, cv.COLOR_BGR2GRAY))\n",
    "        grayscaled_images[folder] = combine\n",
    "    \n",
    "    return grayscaled_images "
   ]
  },
  {
   "cell_type": "code",
   "execution_count": null,
   "id": "66e35892",
   "metadata": {},
   "outputs": [],
   "source": [
    "def normalized_dataset():\n",
    "    class_images = []\n",
    "    grayscaled_images = grayscale_conversion()\n",
    "    \n",
    "    for folder in grayscaled_images:\n",
    "        for images in grayscaled_images[folder]:\n",
    "            class_images.append(images.ravel())\n",
    "            \n",
    "    scaler = MinMaxScaler()\n",
    "    class_data = scaler.fit_transform(class_images)\n",
    "    \n",
    "    return class_data"
   ]
  },
  {
   "cell_type": "code",
   "execution_count": null,
   "id": "76919754",
   "metadata": {},
   "outputs": [],
   "source": [
    "def dimensionality_reduction():\n",
    "    transformed_data = []\n",
    "    class_data = normalized_dataset()\n",
    "    \n",
    "    folders = [\"n02102318-cocker_spaniel\", \"n02105056-groenendael\", \"n02106382-Bouvier_des_Flandres\",\n",
    "               \"n02107574-Greater_Swiss_Mountain_dog\"]\n",
    "    no_of_images = []\n",
    "    for folder in folders:\n",
    "        files = [f for f in os.listdir(f\"../Cropped/{folder}\") if os.path.isfile(os.path.join(f\"../Cropped/{folder}\", f))]\n",
    "        no_of_images.append(len(files))\n",
    "    \n",
    "    len_1 = no_of_images[0]\n",
    "    len_2 = no_of_images[0] + no_of_images[1]\n",
    "    len_3 = no_of_images[0] + no_of_images[1] + no_of_images[2]\n",
    "    len_4 = no_of_images[0] + no_of_images[1] + no_of_images[2] + no_of_images[3]\n",
    "    \n",
    "    pca = PCA(n_components = 2) \n",
    "    transformed_data = pca.fit_transform(class_data)\n",
    "    transformed_data_1 = transformed_data[:len_1]\n",
    "    transformed_data_2 = transformed_data[len_1:len_2]\n",
    "    transformed_data_3 = transformed_data[len_2:len_3]\n",
    "    transformed_data_4 = transformed_data[len_3:len_4]\n",
    "    \n",
    "    return transformed_data"
   ]
  },
  {
   "cell_type": "markdown",
   "id": "d546be70",
   "metadata": {},
   "source": [
    " "
   ]
  },
  {
   "cell_type": "markdown",
   "id": "10fb1dcb",
   "metadata": {},
   "source": [
    "# Clustering Algorithms"
   ]
  },
  {
   "cell_type": "code",
   "execution_count": null,
   "id": "0dc4a504",
   "metadata": {},
   "outputs": [],
   "source": [
    "def k_means_clustering(X):\n",
    "    kmeans = KMeans(n_clusters=4, random_state=0, init=\"random\", n_init=\"auto\").fit(X)\n",
    "    \n",
    "    return kmeans"
   ]
  },
  {
   "cell_type": "code",
   "execution_count": null,
   "id": "f4016818",
   "metadata": {},
   "outputs": [],
   "source": [
    "def k_means_plus(X):\n",
    "    kmeans_plus = KMeans(n_clusters=4, random_state=0, init=\"k-means++\", n_init=\"auto\").fit(X)\n",
    "    \n",
    "    return kmeans_plus"
   ]
  },
  {
   "cell_type": "code",
   "execution_count": null,
   "id": "20c7711d",
   "metadata": {},
   "outputs": [],
   "source": [
    "def bisecting_kmeans(X):\n",
    "    b_kmeans = BisectingKMeans(n_clusters=4, random_state=0, init=\"random\").fit(X)\n",
    "    \n",
    "    return b_kmeans"
   ]
  },
  {
   "cell_type": "code",
   "execution_count": null,
   "id": "9b3d970f",
   "metadata": {},
   "outputs": [],
   "source": [
    "def spectral_clustering(X):\n",
    "    s_clustering = SpectralClustering(n_clusters=4).fit(X)\n",
    "    \n",
    "    return s_clustering"
   ]
  },
  {
   "cell_type": "code",
   "execution_count": null,
   "id": "40037365",
   "metadata": {},
   "outputs": [],
   "source": [
    "def dbscan(X):\n",
    "    dbscan_clustering = DBSCAN(eps=2, min_samples=15).fit(X)\n",
    "    labels = dbscan_clustering.labels_\n",
    "    n_clusters = len(set(labels)) - (1 if -1 in labels else 0)\n",
    "    print(n_clusters)\n",
    "    \n",
    "    return dbscan_clustering"
   ]
  },
  {
   "cell_type": "code",
   "execution_count": null,
   "id": "4aac70d0",
   "metadata": {},
   "outputs": [],
   "source": [
    "def agglomerative_clustering(X):\n",
    "    agg_clustering = AgglomerativeClustering().fit(X)\n",
    "    \n",
    "    return agg_clustering"
   ]
  },
  {
   "cell_type": "code",
   "execution_count": null,
   "id": "833715de",
   "metadata": {},
   "outputs": [],
   "source": [
    "def plot_clusters():\n",
    "    X = dimensionality_reduction()\n",
    "    \n",
    "    kmeans = k_means_clustering(X)\n",
    "    kmeans_plus = k_means_plus(X)\n",
    "    b_kmeans = bisecting_kmeans(X)\n",
    "    s_clustering = spectral_clustering(X)\n",
    "    dbscan_clustering = dbscan(X)\n",
    "    agg_clustering = agglomerative_clustering(X)\n",
    "    \n",
    "    plt.scatter(X[:, 0], X[:, 1], s=10, c=kmeans.labels_)\n",
    "    plt.scatter(kmeans.cluster_centers_[:, 0], kmeans.cluster_centers_[:, 1], s=20, c=\"r\")\n",
    "    plt.title(\"KMeans\")\n",
    "    plt.show()\n",
    "    \n",
    "    plt.scatter(X[:, 0], X[:, 1], s=10, c=kmeans_plus.labels_)\n",
    "    plt.scatter(kmeans_plus.cluster_centers_[:, 0], kmeans_plus.cluster_centers_[:, 1], s=20, c=\"r\")\n",
    "    plt.title(\"KMeans++\")\n",
    "    plt.show()\n",
    "    \n",
    "    plt.scatter(X[:, 0], X[:, 1], s=10, c=b_kmeans.labels_)\n",
    "    plt.scatter(b_kmeans.cluster_centers_[:, 0], b_kmeans.cluster_centers_[:, 1], s=20, c=\"r\")\n",
    "    plt.title(\"BisectingKMeans\")\n",
    "    plt.show()\n",
    "    \n",
    "    plt.scatter(X[:, 0], X[:, 1], s=10, c=s_clustering.labels_)\n",
    "    plt.scatter(s_clustering.cluster_centers_[:, 0], s_clustering.cluster_centers_[:, 1], s=20, c=\"r\")\n",
    "    plt.title(\"SpectralClustering\")\n",
    "    plt.show()\n",
    "    \n",
    "    plt.scatter(X[:, 0], X[:, 1], s=10, c=dbscan_cluster.labels_)\n",
    "    plt.scatter(dbscan_cluster.cluster_centers_[:, 0], dbscan_cluster.cluster_centers_[:, 1], s=20, c=\"r\")\n",
    "    plt.title(\"DBSCAN\")\n",
    "    plt.show()"
   ]
  },
  {
   "cell_type": "code",
   "execution_count": null,
   "id": "081ab88a",
   "metadata": {
    "scrolled": false
   },
   "outputs": [],
   "source": [
    "plot_clusters()"
   ]
  },
  {
   "cell_type": "code",
   "execution_count": null,
   "id": "e3cc6f3e",
   "metadata": {},
   "outputs": [],
   "source": []
  },
  {
   "cell_type": "code",
   "execution_count": null,
   "id": "699c7dd1",
   "metadata": {},
   "outputs": [],
   "source": []
  }
 ],
 "metadata": {
  "kernelspec": {
   "display_name": "Python 3 (ipykernel)",
   "language": "python",
   "name": "python3"
  },
  "language_info": {
   "codemirror_mode": {
    "name": "ipython",
    "version": 3
   },
   "file_extension": ".py",
   "mimetype": "text/x-python",
   "name": "python",
   "nbconvert_exporter": "python",
   "pygments_lexer": "ipython3",
   "version": "3.10.9"
  }
 },
 "nbformat": 4,
 "nbformat_minor": 5
}
