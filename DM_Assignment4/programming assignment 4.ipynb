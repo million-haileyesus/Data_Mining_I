{
 "cells": [
  {
   "cell_type": "code",
   "execution_count": 15,
   "id": "4a6198f9",
   "metadata": {},
   "outputs": [],
   "source": [
    "import os\n",
    "import glob\n",
    "import random\n",
    "import cv2 as cv\n",
    "import numpy as np\n",
    "import timm\n",
    "import torch\n",
    "import torch.nn as nn\n",
    "import xml.etree.ElementTree as ET\n",
    "from matplotlib import pyplot as plt\n",
    "from pathlib import Path\n",
    "from PIL import Image\n",
    "from sklearn.cluster import AgglomerativeClustering, BisectingKMeans, DBSCAN, KMeans, SpectralClustering\n",
    "from sklearn.decomposition import PCA\n",
    "from sklearn.metrics import fowlkes_mallows_score, silhouette_score\n",
    "from sklearn.preprocessing import MinMaxScaler, StandardScaler\n",
    "from torch.utils.data import DataLoader"
   ]
  },
  {
   "cell_type": "markdown",
   "id": "a94861ea",
   "metadata": {},
   "source": [
    "# Feature Extraction"
   ]
  },
  {
   "cell_type": "code",
   "execution_count": null,
   "id": "3f96505e",
   "metadata": {},
   "outputs": [],
   "source": [
    "def get_bounding_boxes(annot):\n",
    "    xml = annot\n",
    "    tree = ET.parse(xml)\n",
    "    root = tree.getroot()\n",
    "    objects = root.findall('object')\n",
    "    bbox = []\n",
    "    for o in objects:\n",
    "        bndbox = o.find('bndbox')\n",
    "        xmin = int(bndbox.find('xmin').text)\n",
    "        ymin = int(bndbox.find('ymin').text)\n",
    "        xmax = int(bndbox.find('xmax').text)\n",
    "        ymax = int(bndbox.find('ymax').text)\n",
    "        bbox.append((xmin,ymin,xmax,ymax))\n",
    "    return bbox"
   ]
  },
  {
   "cell_type": "code",
   "execution_count": null,
   "id": "88352c9d",
   "metadata": {},
   "outputs": [],
   "source": [
    "def get_image(annot):\n",
    "    img_path = \"../images/\"\n",
    "    file = annot.split('\\\\')\n",
    "    img_filename = img_path + file[-2] + \"/\" + file[-1] + \".jpg\"\n",
    "    return img_filename"
   ]
  },
  {
   "cell_type": "code",
   "execution_count": null,
   "id": "2da1e90b",
   "metadata": {},
   "outputs": [],
   "source": [
    "def image_resizing(dog_images, annotations):\n",
    "    for i in range(len(dog_images)):\n",
    "        bbox = get_bounding_boxes(annotations[i])\n",
    "        dog = get_image(annotations[i])\n",
    "        image = Image.open(dog)\n",
    "        for j in range(len(bbox)):\n",
    "            image_2 = image.crop(bbox[j])\n",
    "            image_2 = image_2.resize((224,224), Image.Resampling.LANCZOS)\n",
    "            new_path = dog.replace('../images/','../Resized/')\n",
    "            new_path = new_path.replace('.jpg','-' + str(j) + '.jpg')\n",
    "            image_2 = image_2.convert('RGB')\n",
    "            head, tail = os.path.split(new_path)\n",
    "            Path(head).mkdir(parents=True, exist_ok=True)\n",
    "            image_2.save(new_path)"
   ]
  },
  {
   "cell_type": "code",
   "execution_count": null,
   "id": "316e8fec",
   "metadata": {
    "scrolled": true
   },
   "outputs": [],
   "source": [
    "dog_images = glob.glob(\"../images/*/*\")\n",
    "annotations = glob.glob(\"../annotations/*/*\")\n",
    "image_resizing(dog_images, annotations)"
   ]
  },
  {
   "cell_type": "code",
   "execution_count": 72,
   "id": "15b6307b",
   "metadata": {},
   "outputs": [],
   "source": [
    "def get_images():\n",
    "    folders = [\"n02102318-cocker_spaniel\", \"n02105056-groenendael\", \"n02106382-Bouvier_des_Flandres\",\n",
    "               \"n02107574-Greater_Swiss_Mountain_dog\"]\n",
    "#     folders = [\"n02087394-Rhodesian_ridgeback\", \"n02102318-cocker_spaniel\", \"n02093256-Staffordshire_bullterrier\", \n",
    "#                \"n02097209-standard_schnauzer\"]\n",
    "    no_of_images = []\n",
    "    for folder in folders:\n",
    "        files = [f for f in os.listdir(f\"../Resized/{folder}\") if os.path.isfile(os.path.join(f\"../Resized/{folder}\", f))]\n",
    "        no_of_images.append(len(files))\n",
    "    \n",
    "    no_of_images = np.array(no_of_images)\n",
    "    \n",
    "    collection = {}\n",
    "    for folder, count in zip(folders, no_of_images):\n",
    "        all_files = os.listdir(f\"../Resized/{folder}\")\n",
    "        collection[folder] = all_files     \n",
    "    \n",
    "    return collection, folders, no_of_images"
   ]
  },
  {
   "cell_type": "code",
   "execution_count": 73,
   "id": "8a0c971f",
   "metadata": {},
   "outputs": [],
   "source": [
    "collection, folders, no_of_images = get_images()"
   ]
  },
  {
   "cell_type": "code",
   "execution_count": 74,
   "id": "9f6b3a5f",
   "metadata": {},
   "outputs": [],
   "source": [
    "def get_pixels():\n",
    "    collection, folders, no_of_images = get_images()\n",
    "\n",
    "    pixels = {}\n",
    "    for folder, images in collection.items():\n",
    "        combine = []\n",
    "        for img in images:\n",
    "            path = f\"../Resized/{folder}/{img}\"\n",
    "            loaded_image = cv.imread(path)\n",
    "            combine.append(loaded_image)\n",
    "        combine = np.array(combine)\n",
    "        pixels[folder] = combine\n",
    "    \n",
    "    return pixels, folders, no_of_images"
   ]
  },
  {
   "cell_type": "code",
   "execution_count": 75,
   "id": "46fee688",
   "metadata": {},
   "outputs": [],
   "source": [
    "pixels, folders, no_of_images = get_pixels() \n",
    "size = sum(no_of_images.tolist())"
   ]
  },
  {
   "cell_type": "code",
   "execution_count": 76,
   "id": "c4589a7e",
   "metadata": {},
   "outputs": [],
   "source": [
    "class_1_images = pixels[folders[0]]\n",
    "class_2_images = pixels[folders[1]]\n",
    "class_3_images = pixels[folders[2]]\n",
    "class_4_images = pixels[folders[3]]\n",
    "\n",
    "class_1_label = np.full(no_of_images[0], 0)  \n",
    "class_2_label = np.full(no_of_images[1], 1)  \n",
    "class_3_label = np.full(no_of_images[2], 2)  \n",
    "class_4_label = np.full(no_of_images[3], 3)  "
   ]
  },
  {
   "cell_type": "code",
   "execution_count": 77,
   "id": "13367322",
   "metadata": {},
   "outputs": [],
   "source": [
    "def normalized_dataset():   \n",
    "    class_data = np.concatenate((class_1_images, class_2_images, class_3_images, class_4_images), axis=0)\n",
    "    class_images = class_data.reshape((size, -1))\n",
    "    \n",
    "    scaler = StandardScaler()\n",
    "    class_images = scaler.fit_transform(class_images)\n",
    "\n",
    "    return class_images"
   ]
  },
  {
   "cell_type": "code",
   "execution_count": 78,
   "id": "939e3986",
   "metadata": {},
   "outputs": [],
   "source": [
    "class_data = normalized_dataset()"
   ]
  },
  {
   "cell_type": "code",
   "execution_count": 79,
   "id": "e577cc3b",
   "metadata": {
    "scrolled": false
   },
   "outputs": [
    {
     "data": {
      "text/plain": [
       "ResNet(\n",
       "  (conv1): Conv2d(3, 64, kernel_size=(7, 7), stride=(2, 2), padding=(3, 3), bias=False)\n",
       "  (bn1): BatchNorm2d(64, eps=1e-05, momentum=0.1, affine=True, track_running_stats=True)\n",
       "  (act1): ReLU(inplace=True)\n",
       "  (maxpool): MaxPool2d(kernel_size=3, stride=2, padding=1, dilation=1, ceil_mode=False)\n",
       "  (layer1): Sequential(\n",
       "    (0): BasicBlock(\n",
       "      (conv1): Conv2d(64, 64, kernel_size=(3, 3), stride=(1, 1), padding=(1, 1), bias=False)\n",
       "      (bn1): BatchNorm2d(64, eps=1e-05, momentum=0.1, affine=True, track_running_stats=True)\n",
       "      (drop_block): Identity()\n",
       "      (act1): ReLU(inplace=True)\n",
       "      (aa): Identity()\n",
       "      (conv2): Conv2d(64, 64, kernel_size=(3, 3), stride=(1, 1), padding=(1, 1), bias=False)\n",
       "      (bn2): BatchNorm2d(64, eps=1e-05, momentum=0.1, affine=True, track_running_stats=True)\n",
       "      (act2): ReLU(inplace=True)\n",
       "    )\n",
       "    (1): BasicBlock(\n",
       "      (conv1): Conv2d(64, 64, kernel_size=(3, 3), stride=(1, 1), padding=(1, 1), bias=False)\n",
       "      (bn1): BatchNorm2d(64, eps=1e-05, momentum=0.1, affine=True, track_running_stats=True)\n",
       "      (drop_block): Identity()\n",
       "      (act1): ReLU(inplace=True)\n",
       "      (aa): Identity()\n",
       "      (conv2): Conv2d(64, 64, kernel_size=(3, 3), stride=(1, 1), padding=(1, 1), bias=False)\n",
       "      (bn2): BatchNorm2d(64, eps=1e-05, momentum=0.1, affine=True, track_running_stats=True)\n",
       "      (act2): ReLU(inplace=True)\n",
       "    )\n",
       "  )\n",
       "  (layer2): Sequential(\n",
       "    (0): BasicBlock(\n",
       "      (conv1): Conv2d(64, 128, kernel_size=(3, 3), stride=(2, 2), padding=(1, 1), bias=False)\n",
       "      (bn1): BatchNorm2d(128, eps=1e-05, momentum=0.1, affine=True, track_running_stats=True)\n",
       "      (drop_block): Identity()\n",
       "      (act1): ReLU(inplace=True)\n",
       "      (aa): Identity()\n",
       "      (conv2): Conv2d(128, 128, kernel_size=(3, 3), stride=(1, 1), padding=(1, 1), bias=False)\n",
       "      (bn2): BatchNorm2d(128, eps=1e-05, momentum=0.1, affine=True, track_running_stats=True)\n",
       "      (act2): ReLU(inplace=True)\n",
       "      (downsample): Sequential(\n",
       "        (0): Conv2d(64, 128, kernel_size=(1, 1), stride=(2, 2), bias=False)\n",
       "        (1): BatchNorm2d(128, eps=1e-05, momentum=0.1, affine=True, track_running_stats=True)\n",
       "      )\n",
       "    )\n",
       "    (1): BasicBlock(\n",
       "      (conv1): Conv2d(128, 128, kernel_size=(3, 3), stride=(1, 1), padding=(1, 1), bias=False)\n",
       "      (bn1): BatchNorm2d(128, eps=1e-05, momentum=0.1, affine=True, track_running_stats=True)\n",
       "      (drop_block): Identity()\n",
       "      (act1): ReLU(inplace=True)\n",
       "      (aa): Identity()\n",
       "      (conv2): Conv2d(128, 128, kernel_size=(3, 3), stride=(1, 1), padding=(1, 1), bias=False)\n",
       "      (bn2): BatchNorm2d(128, eps=1e-05, momentum=0.1, affine=True, track_running_stats=True)\n",
       "      (act2): ReLU(inplace=True)\n",
       "    )\n",
       "  )\n",
       "  (layer3): Sequential(\n",
       "    (0): BasicBlock(\n",
       "      (conv1): Conv2d(128, 256, kernel_size=(3, 3), stride=(2, 2), padding=(1, 1), bias=False)\n",
       "      (bn1): BatchNorm2d(256, eps=1e-05, momentum=0.1, affine=True, track_running_stats=True)\n",
       "      (drop_block): Identity()\n",
       "      (act1): ReLU(inplace=True)\n",
       "      (aa): Identity()\n",
       "      (conv2): Conv2d(256, 256, kernel_size=(3, 3), stride=(1, 1), padding=(1, 1), bias=False)\n",
       "      (bn2): BatchNorm2d(256, eps=1e-05, momentum=0.1, affine=True, track_running_stats=True)\n",
       "      (act2): ReLU(inplace=True)\n",
       "      (downsample): Sequential(\n",
       "        (0): Conv2d(128, 256, kernel_size=(1, 1), stride=(2, 2), bias=False)\n",
       "        (1): BatchNorm2d(256, eps=1e-05, momentum=0.1, affine=True, track_running_stats=True)\n",
       "      )\n",
       "    )\n",
       "    (1): BasicBlock(\n",
       "      (conv1): Conv2d(256, 256, kernel_size=(3, 3), stride=(1, 1), padding=(1, 1), bias=False)\n",
       "      (bn1): BatchNorm2d(256, eps=1e-05, momentum=0.1, affine=True, track_running_stats=True)\n",
       "      (drop_block): Identity()\n",
       "      (act1): ReLU(inplace=True)\n",
       "      (aa): Identity()\n",
       "      (conv2): Conv2d(256, 256, kernel_size=(3, 3), stride=(1, 1), padding=(1, 1), bias=False)\n",
       "      (bn2): BatchNorm2d(256, eps=1e-05, momentum=0.1, affine=True, track_running_stats=True)\n",
       "      (act2): ReLU(inplace=True)\n",
       "    )\n",
       "  )\n",
       "  (layer4): Sequential(\n",
       "    (0): BasicBlock(\n",
       "      (conv1): Conv2d(256, 512, kernel_size=(3, 3), stride=(2, 2), padding=(1, 1), bias=False)\n",
       "      (bn1): BatchNorm2d(512, eps=1e-05, momentum=0.1, affine=True, track_running_stats=True)\n",
       "      (drop_block): Identity()\n",
       "      (act1): ReLU(inplace=True)\n",
       "      (aa): Identity()\n",
       "      (conv2): Conv2d(512, 512, kernel_size=(3, 3), stride=(1, 1), padding=(1, 1), bias=False)\n",
       "      (bn2): BatchNorm2d(512, eps=1e-05, momentum=0.1, affine=True, track_running_stats=True)\n",
       "      (act2): ReLU(inplace=True)\n",
       "      (downsample): Sequential(\n",
       "        (0): Conv2d(256, 512, kernel_size=(1, 1), stride=(2, 2), bias=False)\n",
       "        (1): BatchNorm2d(512, eps=1e-05, momentum=0.1, affine=True, track_running_stats=True)\n",
       "      )\n",
       "    )\n",
       "    (1): BasicBlock(\n",
       "      (conv1): Conv2d(512, 512, kernel_size=(3, 3), stride=(1, 1), padding=(1, 1), bias=False)\n",
       "      (bn1): BatchNorm2d(512, eps=1e-05, momentum=0.1, affine=True, track_running_stats=True)\n",
       "      (drop_block): Identity()\n",
       "      (act1): ReLU(inplace=True)\n",
       "      (aa): Identity()\n",
       "      (conv2): Conv2d(512, 512, kernel_size=(3, 3), stride=(1, 1), padding=(1, 1), bias=False)\n",
       "      (bn2): BatchNorm2d(512, eps=1e-05, momentum=0.1, affine=True, track_running_stats=True)\n",
       "      (act2): ReLU(inplace=True)\n",
       "    )\n",
       "  )\n",
       "  (global_pool): SelectAdaptivePool2d(pool_type=avg, flatten=Flatten(start_dim=1, end_dim=-1))\n",
       "  (fc): Linear(in_features=512, out_features=4, bias=True)\n",
       ")"
      ]
     },
     "execution_count": 79,
     "metadata": {},
     "output_type": "execute_result"
    }
   ],
   "source": [
    "device = torch.device(\"cpu\")\n",
    "model = timm.create_model(model_name = 'resnet18', pretrained = True)\n",
    "model.fc = nn.Linear(512, 4)\n",
    "model.to(device)"
   ]
  },
  {
   "cell_type": "code",
   "execution_count": 80,
   "id": "1db62a4b",
   "metadata": {},
   "outputs": [],
   "source": [
    "def get_features(name):\n",
    "    def hook(model, input, output):\n",
    "        features[name] = output.detach()\n",
    "    return hook"
   ]
  },
  {
   "cell_type": "code",
   "execution_count": 81,
   "id": "206ef73c",
   "metadata": {},
   "outputs": [
    {
     "data": {
      "text/plain": [
       "<torch.utils.hooks.RemovableHandle at 0x1d384b9f5e0>"
      ]
     },
     "execution_count": 81,
     "metadata": {},
     "output_type": "execute_result"
    }
   ],
   "source": [
    "model.global_pool.register_forward_hook(get_features('feats'))"
   ]
  },
  {
   "cell_type": "code",
   "execution_count": 82,
   "id": "51029a68",
   "metadata": {},
   "outputs": [],
   "source": [
    "data_loader = DataLoader(class_data, batch_size = size, shuffle = False)"
   ]
  },
  {
   "cell_type": "code",
   "execution_count": 83,
   "id": "94e80fc6",
   "metadata": {
    "scrolled": true
   },
   "outputs": [],
   "source": [
    "PREDS = []\n",
    "FEATS = []\n",
    "\n",
    "features = {}\n",
    "\n",
    "batch_size = size\n",
    "channels = 3\n",
    "height = 224\n",
    "width = 224   \n",
    "\n",
    "for i, inputs in enumerate(data_loader):\n",
    "    inputs = inputs.view(batch_size, channels, height, width)\n",
    "    inputs = inputs.to(device)\n",
    "    preds = model(inputs.float())\n",
    "    PREDS.append(preds.detach().cpu().numpy())\n",
    "    FEATS.append(features['feats'].cpu().numpy())\n",
    "    \n",
    "#     if i == 9:\n",
    "#         break"
   ]
  },
  {
   "cell_type": "code",
   "execution_count": 84,
   "id": "cf87dc09",
   "metadata": {},
   "outputs": [
    {
     "name": "stdout",
     "output_type": "stream",
     "text": [
      "- preds shape: (651, 4)\n",
      "- feats shape: (651, 512)\n"
     ]
    }
   ],
   "source": [
    "PREDS = np.concatenate(PREDS)\n",
    "FEATS = np.concatenate(FEATS)\n",
    "\n",
    "print('- preds shape:', PREDS.shape)\n",
    "print('- feats shape:', FEATS.shape)"
   ]
  },
  {
   "cell_type": "code",
   "execution_count": 85,
   "id": "92122d4f",
   "metadata": {},
   "outputs": [],
   "source": [
    "def dimensionality_reduction():    \n",
    "    pca = PCA(n_components = 2) \n",
    "    transformed_data = pca.fit_transform(FEATS)\n",
    "    \n",
    "    len_1 = len(class_1_images)\n",
    "    len_2 = len(class_1_images) + len(class_2_images) \n",
    "    len_3 = len(class_1_images) + len(class_2_images) + len(class_3_images) \n",
    "        \n",
    "    transformed_data_1 = transformed_data[:len_1]\n",
    "    transformed_data_2 = transformed_data[len_1:len_2]\n",
    "    transformed_data_3 = transformed_data[len_2:len_3]\n",
    "    transformed_data_4 = transformed_data[len_3:]\n",
    "    \n",
    "    plt.scatter(transformed_data_1[:, 0], transformed_data_1[:, 1], color='r')\n",
    "    plt.scatter(transformed_data_2[:, 0], transformed_data_2[:, 1], color='b')\n",
    "    plt.scatter(transformed_data_3[:, 0], transformed_data_3[:, 1], color='y')\n",
    "    plt.scatter(transformed_data_4[:, 0], transformed_data_4[:, 1], color='g')\n",
    "    plt.show()\n",
    "    \n",
    "    return transformed_data"
   ]
  },
  {
   "cell_type": "code",
   "execution_count": 86,
   "id": "aed9b267",
   "metadata": {},
   "outputs": [
    {
     "data": {
      "image/png": "[encoded data removed]",
      "text/plain": [
       "<Figure size 640x480 with 1 Axes>"
      ]
     },
     "metadata": {},
     "output_type": "display_data"
    }
   ],
   "source": [
    "X = dimensionality_reduction()"
   ]
  },
  {
   "cell_type": "markdown",
   "id": "f3f58672",
   "metadata": {},
   "source": [
    "^^^THIS PART IS A LOAD OF SHIIIITTT^^^\n",
    "\n",
    "1. dimension reductions\n",
    "2. all the clusters\n",
    "3. all the evaluations"
   ]
  },
  {
   "cell_type": "markdown",
   "id": "1bdd5cb3",
   "metadata": {},
   "source": [
    " "
   ]
  },
  {
   "cell_type": "markdown",
   "id": "b79c5fac",
   "metadata": {},
   "source": [
    "# Clustering Algorithms"
   ]
  },
  {
   "cell_type": "code",
   "execution_count": null,
   "id": "a5c8a5f1",
   "metadata": {},
   "outputs": [],
   "source": [
    "def k_means_clustering(X):\n",
    "    kmeans = KMeans(n_clusters=4, random_state=0, init=\"random\", n_init=\"auto\").fit(X)\n",
    "    \n",
    "    return kmeans"
   ]
  },
  {
   "cell_type": "code",
   "execution_count": null,
   "id": "9606b002",
   "metadata": {},
   "outputs": [],
   "source": [
    "def k_means_plus(X):\n",
    "    kmeans_plus = KMeans(n_clusters=4, random_state=0, init=\"k-means++\", n_init=\"auto\").fit(X)\n",
    "    \n",
    "    return kmeans_plus"
   ]
  },
  {
   "cell_type": "code",
   "execution_count": null,
   "id": "9ee80595",
   "metadata": {},
   "outputs": [],
   "source": [
    "def bisecting_kmeans(X):\n",
    "    b_kmeans = BisectingKMeans(n_clusters=4, random_state=0, init=\"random\").fit(X)\n",
    "    \n",
    "    return b_kmeans"
   ]
  },
  {
   "cell_type": "code",
   "execution_count": null,
   "id": "2c3698d4",
   "metadata": {},
   "outputs": [],
   "source": [
    "def spectral_clustering(X):\n",
    "    s_clustering = SpectralClustering(n_clusters=4).fit(X)\n",
    "    \n",
    "    return s_clustering"
   ]
  },
  {
   "cell_type": "code",
   "execution_count": null,
   "id": "64595c13",
   "metadata": {},
   "outputs": [],
   "source": [
    "def dbscan(X):\n",
    "    dbscan_clustering = DBSCAN(eps=2.7, min_samples=10).fit(X)\n",
    "    labels = dbscan_clustering.labels_\n",
    "    n_clusters = len(set(labels)) - (1 if -1 in labels else 0)\n",
    "    print(n_clusters)\n",
    "    \n",
    "    return dbscan_clustering"
   ]
  },
  {
   "cell_type": "code",
   "execution_count": null,
   "id": "b393b26a",
   "metadata": {},
   "outputs": [],
   "source": [
    "def agglomerative_clustering(X):\n",
    "    single = AgglomerativeClustering(n_clusters=4, linkage=\"single\").fit(X)\n",
    "    complete = AgglomerativeClustering(n_clusters=4, linkage=\"complete\").fit(X)\n",
    "    average = AgglomerativeClustering(n_clusters=4, linkage=\"average\").fit(X)\n",
    "    ward = AgglomerativeClustering(n_clusters=4, linkage=\"ward\").fit(X)\n",
    "    \n",
    "    return single, complete, average, ward"
   ]
  },
  {
   "cell_type": "code",
   "execution_count": null,
   "id": "7f3fb8e6",
   "metadata": {},
   "outputs": [],
   "source": [
    "kmeans = k_means_clustering(X)\n",
    "kmeans_plus = k_means_plus(X)\n",
    "b_kmeans = bisecting_kmeans(X)\n",
    "s_clustering = spectral_clustering(X)\n",
    "dbscan_clustering = dbscan(X)\n",
    "single_clu, complete_clu, average_clu, ward_clu = agglomerative_clustering(X)\n",
    "print(dbscan_clustering)"
   ]
  },
  {
   "cell_type": "code",
   "execution_count": null,
   "id": "de787247",
   "metadata": {},
   "outputs": [],
   "source": [
    "def plot_clusters():\n",
    "    plt.scatter(X[:, 0], X[:, 1], s=10, c=kmeans.labels_)\n",
    "    plt.scatter(kmeans.cluster_centers_[:, 0], kmeans.cluster_centers_[:, 1], s=20, c=\"r\")\n",
    "    plt.title(\"KMeans\")\n",
    "    plt.show()\n",
    "    \n",
    "    plt.scatter(X[:, 0], X[:, 1], s=10, c=kmeans_plus.labels_)\n",
    "    plt.scatter(kmeans_plus.cluster_centers_[:, 0], kmeans_plus.cluster_centers_[:, 1], s=20, c=\"r\")\n",
    "    plt.title(\"KMeans++\")\n",
    "    plt.show()\n",
    "    \n",
    "    plt.scatter(X[:, 0], X[:, 1], s=10, c=b_kmeans.labels_)\n",
    "    plt.scatter(b_kmeans.cluster_centers_[:, 0], b_kmeans.cluster_centers_[:, 1], s=20, c=\"r\")\n",
    "    plt.title(\"BisectingKMeans\")\n",
    "    plt.show()\n",
    "    \n",
    "    plt.scatter(X[:, 0], X[:, 1], s=10, c=s_clustering.labels_)\n",
    "    plt.title(\"SpectralClustering\")\n",
    "    plt.show()\n",
    "    \n",
    "    plt.scatter(X[:, 0], X[:, 1], s=10, c=dbscan_clustering.labels_)\n",
    "    plt.title(\"DBSCAN\")\n",
    "    plt.show()\n",
    "    \n",
    "    plt.scatter(X[:, 0], X[:, 1], c=single_clu.labels_)\n",
    "    plt.title(\"Single Agglomerative Linkage\")\n",
    "    plt.show()\n",
    "    \n",
    "    plt.scatter(X[:, 0], X[:, 1], c=complete_clu.labels_)\n",
    "    plt.title(\"Complete Agglomerative Linkage\")\n",
    "    plt.show()\n",
    "    \n",
    "    plt.scatter(X[:, 0], X[:, 1], c=average_clu.labels_)\n",
    "    plt.title(\"Average Agglomerative Linkage\")\n",
    "    plt.show()\n",
    "    \n",
    "    plt.scatter(X[:, 0], X[:, 1], c=ward_clu.labels_)\n",
    "    plt.title(\"Ward Agglomerative Linkage\")\n",
    "    plt.show()"
   ]
  },
  {
   "cell_type": "code",
   "execution_count": null,
   "id": "c4b96418",
   "metadata": {
    "scrolled": true
   },
   "outputs": [],
   "source": [
    "plot_clusters()"
   ]
  },
  {
   "cell_type": "markdown",
   "id": "97970f0d",
   "metadata": {},
   "source": [
    " "
   ]
  },
  {
   "cell_type": "markdown",
   "id": "ac0ee8c2",
   "metadata": {},
   "source": [
    "# Clustering Evalutions"
   ]
  },
  {
   "cell_type": "code",
   "execution_count": null,
   "id": "6ff01a1b",
   "metadata": {},
   "outputs": [],
   "source": [
    "def fowlkes_mallows_score_evaluation():\n",
    "    results = []\n",
    "    labels_true = []\n",
    "    labels_true.extend(class_1_label)\n",
    "    labels_true.extend(class_2_label)\n",
    "    labels_true.extend(class_3_label)\n",
    "    labels_true.extend(class_4_label)\n",
    "    \n",
    "    clusters = [kmeans, kmeans_plus, b_kmeans, s_clustering, dbscan_clustering, \n",
    "                single_clu, complete_clu, average_clu, ward_clu]\n",
    "    \n",
    "    for method in clusters:\n",
    "        results.append(fowlkes_mallows_score(labels_true, method.labels_))\n",
    "\n",
    "    print(results)\n",
    "    print(f\"{clusters[results.index(max(results))]}: {max(results)}\") "
   ]
  },
  {
   "cell_type": "code",
   "execution_count": null,
   "id": "b29a9922",
   "metadata": {},
   "outputs": [],
   "source": [
    "fowlkes_mallows_score_evaluation()"
   ]
  },
  {
   "cell_type": "code",
   "execution_count": null,
   "id": "df789abd",
   "metadata": {},
   "outputs": [],
   "source": [
    "def silhouette_score_evaluation():\n",
    "    results = []\n",
    "    clusters = [kmeans, kmeans_plus, b_kmeans, s_clustering, dbscan_clustering, \n",
    "                single_clu, complete_clu, average_clu, ward_clu]\n",
    "    \n",
    "    for method in clusters:\n",
    "        results.append(silhouette_score(X, method.labels_))\n",
    "        \n",
    "    print(results)\n",
    "    print(f\"{clusters[results.index(max(results))]}: {max(results)}\") "
   ]
  },
  {
   "cell_type": "code",
   "execution_count": null,
   "id": "ad54ddf7",
   "metadata": {},
   "outputs": [],
   "source": [
    "silhouette_score_evaluation()"
   ]
  },
  {
   "cell_type": "code",
   "execution_count": null,
   "id": "23ef2a3e",
   "metadata": {},
   "outputs": [],
   "source": []
  },
  {
   "cell_type": "code",
   "execution_count": null,
   "id": "6283d511",
   "metadata": {},
   "outputs": [],
   "source": []
  },
  {
   "cell_type": "code",
   "execution_count": null,
   "id": "6ed12bf3",
   "metadata": {},
   "outputs": [],
   "source": [
    "import numpy as np\n",
    "import pandas as pd\n",
    "\n",
    "import torch\n",
    "import torch.nn as nn\n",
    "from torch.utils.data import Dataset, DataLoader\n",
    "\n",
    "import timm\n",
    "\n",
    "import albumentations as A\n",
    "from albumentations.pytorch import ToTensorV2\n",
    "\n",
    "import cv2\n",
    "import os\n",
    "\n",
    "device = torch.device('cuda')"
   ]
  },
  {
   "cell_type": "code",
   "execution_count": null,
   "id": "7b164454",
   "metadata": {},
   "outputs": [],
   "source": [
    "class ImageData(Dataset):\n",
    "    \n",
    "    # init\n",
    "    def __init__(self, \n",
    "                 data, \n",
    "                 directory, \n",
    "                 transform):\n",
    "        self.data      = data\n",
    "        self.directory = directory\n",
    "        self.transform = transform\n",
    "        \n",
    "    # length\n",
    "    def __len__(self):\n",
    "        return len(self.data)\n",
    "    \n",
    "    # get item  \n",
    "    def __getitem__(self, idx):\n",
    "        \n",
    "        # import\n",
    "        image = cv2.imread(os.path.join(self.directory, self.data.iloc[idx]['image_id']))\n",
    "        image = cv2.cvtColor(image, cv2.COLOR_BGR2RGB)\n",
    "            \n",
    "        # augmentations\n",
    "        image = self.transform(image = image)['image']\n",
    "        \n",
    "        return image"
   ]
  },
  {
   "cell_type": "code",
   "execution_count": null,
   "id": "a0e1ce22",
   "metadata": {},
   "outputs": [],
   "source": [
    "# df = pd.read_csv('../input/cassava-leaf-disease-classification/train.csv')\n",
    "# display(df.head())\n",
    "\n",
    "# augmentations\n",
    "transforms = A.Compose([A.Resize(height = 128, width = 128),\n",
    "                        A.Normalize(),\n",
    "                        ToTensorV2()])\n",
    "print(A.Normalize())\n",
    "# dataset\n",
    "# data_set = ImageData(data      = df, \n",
    "#                      directory = '../input/cassava-leaf-disease-classification/train_images/',\n",
    "#                      transform = transforms)\n",
    "\n",
    "# # dataloader\n",
    "# data_loader = DataLoader(data_set, \n",
    "#                          batch_size  = 32, \n",
    "#                          shuffle     = False, \n",
    "#                          num_workers = 2)"
   ]
  },
  {
   "cell_type": "code",
   "execution_count": null,
   "id": "82411277",
   "metadata": {},
   "outputs": [],
   "source": [
    "model    = timm.create_model(model_name = 'resnet18', pretrained = True)\n",
    "model.fc = nn.Linear(512, 2)\n",
    "model.to(device)"
   ]
  },
  {
   "cell_type": "code",
   "execution_count": null,
   "id": "73f19908",
   "metadata": {},
   "outputs": [],
   "source": [
    "def get_features(name):\n",
    "    def hook(model, input, output):\n",
    "        features[name] = output.detach()\n",
    "    return hook"
   ]
  },
  {
   "cell_type": "code",
   "execution_count": null,
   "id": "6427d63b",
   "metadata": {},
   "outputs": [],
   "source": [
    "model.global_pool.register_forward_hook(get_features('feats'))"
   ]
  },
  {
   "cell_type": "code",
   "execution_count": null,
   "id": "3efdc919",
   "metadata": {},
   "outputs": [],
   "source": [
    "# placeholders\n",
    "PREDS = []\n",
    "FEATS = []\n",
    "\n",
    "# placeholder for batch features\n",
    "features = {}\n",
    "\n",
    "# loop through batches\n",
    "for idx, inputs in enumerate(data_loader):\n",
    "\n",
    "    # move to device\n",
    "    inputs = inputs.to(device)\n",
    "    print(inputs)\n",
    "    # forward pass [with feature extraction]\n",
    "    preds = model(inputs)\n",
    "    \n",
    "    # add feats and preds to lists\n",
    "    PREDS.append(preds.detach().cpu().numpy())\n",
    "    FEATS.append(features['feats'].cpu().numpy())\n",
    "\n",
    "    # early stop\n",
    "    if idx == 9:\n",
    "        break"
   ]
  }
 ],
 "metadata": {
  "kernelspec": {
   "display_name": "Python 3 (ipykernel)",
   "language": "python",
   "name": "python3"
  },
  "language_info": {
   "codemirror_mode": {
    "name": "ipython",
    "version": 3
   },
   "file_extension": ".py",
   "mimetype": "text/x-python",
   "name": "python",
   "nbconvert_exporter": "python",
   "pygments_lexer": "ipython3",
   "version": "3.10.9"
  }
 },
 "nbformat": 4,
 "nbformat_minor": 5
}
