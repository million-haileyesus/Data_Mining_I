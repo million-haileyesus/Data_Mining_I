{
 "cells": [
  {
   "cell_type": "code",
   "execution_count": 2,
   "id": "03e151ff",
   "metadata": {},
   "outputs": [],
   "source": [
    "!pip install mlxtend -q\n",
    "import os\n",
    "import random\n",
    "import pandas as pd\n",
    "import numpy as np\n",
    "from matplotlib import pyplot as plt\n",
    "from mlxtend.preprocessing import TransactionEncoder\n",
    "from mlxtend.frequent_patterns import apriori, association_rules, fpmax, fpgrowth"
   ]
  },
  {
   "cell_type": "code",
   "execution_count": 36,
   "id": "92376bf5",
   "metadata": {},
   "outputs": [
    {
     "name": "stdout",
     "output_type": "stream",
     "text": [
      "          antecedents   consequents  antecedent support  consequent support  \\\n",
      "0  (other vegetables)  (whole milk)            0.121500             0.15475   \n",
      "1        (rolls/buns)  (whole milk)            0.110750             0.15475   \n",
      "2              (soda)  (whole milk)            0.096250             0.15475   \n",
      "3            (yogurt)  (whole milk)            0.086625             0.15475   \n",
      "\n",
      "    support  confidence      lift  leverage  conviction  zhangs_metric  \n",
      "0  0.014750    0.121399  0.784486 -0.004052    0.962041      -0.238220  \n",
      "1  0.012625    0.113995  0.736643 -0.004514    0.954002      -0.286751  \n",
      "2  0.010125    0.105195  0.679773 -0.004770    0.944619      -0.342646  \n",
      "3  0.011000    0.126984  0.820576 -0.002405    0.968195      -0.193154  \n"
     ]
    }
   ],
   "source": [
    "dataset = []\n",
    "csv_file = \"../Grocery_Items_21.csv\"\n",
    "data = pd.read_csv(f\"{csv_file}\")\n",
    "for i in range(len(data)):\n",
    "    row_values = data.iloc[i].values\n",
    "    items = [item.strip() for item in row_values if pd.notna(item)]\n",
    "    dataset.append(items)\n",
    "\n",
    "te = TransactionEncoder()\n",
    "te_ary = te.fit(dataset).transform(dataset)\n",
    "df = pd.DataFrame(te_ary, columns=te.columns_)\n",
    "\n",
    "frequent_itemsets = fpgrowth(df, min_support=0.01, use_colnames=True)\n",
    "rules = association_rules(frequent_itemsets, metric=\"confidence\", min_threshold=0.1)\n",
    "print(rules)"
   ]
  },
  {
   "cell_type": "code",
   "execution_count": null,
   "id": "773dfc90",
   "metadata": {},
   "outputs": [],
   "source": []
  }
 ],
 "metadata": {
  "kernelspec": {
   "display_name": "Python 3 (ipykernel)",
   "language": "python",
   "name": "python3"
  },
  "language_info": {
   "codemirror_mode": {
    "name": "ipython",
    "version": 3
   },
   "file_extension": ".py",
   "mimetype": "text/x-python",
   "name": "python",
   "nbconvert_exporter": "python",
   "pygments_lexer": "ipython3",
   "version": "3.10.9"
  }
 },
 "nbformat": 4,
 "nbformat_minor": 5
}
