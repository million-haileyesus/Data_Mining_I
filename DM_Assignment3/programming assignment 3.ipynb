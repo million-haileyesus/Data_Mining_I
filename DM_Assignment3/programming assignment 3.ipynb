{
 "cells": [
  {
   "cell_type": "code",
   "execution_count": 1,
   "id": "03e151ff",
   "metadata": {},
   "outputs": [
    {
     "name": "stdout",
     "output_type": "stream",
     "text": [
      "WARNING:tensorflow:From C:\\Users\\noill\\AppData\\Local\\Programs\\Python\\Python310\\lib\\site-packages\\keras\\src\\losses.py:2976: The name tf.losses.sparse_softmax_cross_entropy is deprecated. Please use tf.compat.v1.losses.sparse_softmax_cross_entropy instead.\n",
      "\n"
     ]
    }
   ],
   "source": [
    "import os\n",
    "import random\n",
    "import cv2 as cv\n",
    "import numpy as np\n",
    "import pandas as pd\n",
    "import seaborn as sns\n",
    "from matplotlib import pyplot as plt\n",
    "from mlxtend.preprocessing import TransactionEncoder\n",
    "from mlxtend.frequent_patterns import apriori, association_rules, fpmax, fpgrowth\n",
    "from sklearn.preprocessing import StandardScaler\n",
    "from tensorflow import keras\n",
    "from tensorflow.keras import layers\n",
    "from tensorflow.keras.utils import to_categorical"
   ]
  },
  {
   "cell_type": "code",
   "execution_count": 2,
   "id": "731d5715",
   "metadata": {},
   "outputs": [],
   "source": [
    "def get_dataset():\n",
    "    dataset = []\n",
    "    csv_file = \"../Grocery_Items_21.csv\"\n",
    "    data = pd.read_csv(f\"{csv_file}\")\n",
    "    \n",
    "    for i in range(len(data)):\n",
    "        row_values = data.iloc[i].values\n",
    "        items = [item.strip() for item in row_values if pd.notna(item)]\n",
    "        dataset.append(items)\n",
    "        \n",
    "    return dataset"
   ]
  },
  {
   "cell_type": "code",
   "execution_count": 3,
   "id": "92376bf5",
   "metadata": {},
   "outputs": [],
   "source": [
    "def get_association_rules():    \n",
    "    dataset = get_dataset()   \n",
    "\n",
    "    te = TransactionEncoder()\n",
    "    te_ary = te.fit(dataset).transform(dataset)\n",
    "    df = pd.DataFrame(te_ary, columns=te.columns_)\n",
    "\n",
    "    frequent_itemsets = fpgrowth(df, min_support=0.01, use_colnames=True)\n",
    "    rules = association_rules(frequent_itemsets, metric=\"confidence\", min_threshold=0.1)\n",
    "    \n",
    "    print(rules)"
   ]
  },
  {
   "cell_type": "code",
   "execution_count": 4,
   "id": "4437b982",
   "metadata": {},
   "outputs": [
    {
     "name": "stdout",
     "output_type": "stream",
     "text": [
      "          antecedents   consequents  antecedent support  consequent support  \\\n",
      "0  (other vegetables)  (whole milk)            0.121500             0.15475   \n",
      "1        (rolls/buns)  (whole milk)            0.110750             0.15475   \n",
      "2              (soda)  (whole milk)            0.096250             0.15475   \n",
      "3            (yogurt)  (whole milk)            0.086625             0.15475   \n",
      "\n",
      "    support  confidence      lift  leverage  conviction  zhangs_metric  \n",
      "0  0.014750    0.121399  0.784486 -0.004052    0.962041      -0.238220  \n",
      "1  0.012625    0.113995  0.736643 -0.004514    0.954002      -0.286751  \n",
      "2  0.010125    0.105195  0.679773 -0.004770    0.944619      -0.342646  \n",
      "3  0.011000    0.126984  0.820576 -0.002405    0.968195      -0.193154  \n"
     ]
    }
   ],
   "source": [
    "get_association_rules()"
   ]
  },
  {
   "cell_type": "code",
   "execution_count": 5,
   "id": "9d1f3115",
   "metadata": {
    "scrolled": false
   },
   "outputs": [],
   "source": [
    "def extract_association():\n",
    "    minimum_support=values = [0.001, 0.005, 0.01, 0.05]\n",
    "    minimum_confidence_threshold = [0.05, 0.075, 0.1]\n",
    "    dataset = get_dataset()   \n",
    "\n",
    "    te = TransactionEncoder()\n",
    "    te_ary = te.fit(dataset).transform(dataset)\n",
    "    df = pd.DataFrame(te_ary, columns=te.columns_)\n",
    "\n",
    "    frequent_itemsets = []\n",
    "    rules = []\n",
    "    for min_supp in minimum_support:\n",
    "        for min_thresh in minimum_confidence_threshold:\n",
    "            frequent_itemsets.append(fpgrowth(df, min_support=min_supp, use_colnames=True))\n",
    "            rule = association_rules(frequent_itemsets[-1], metric=\"confidence\", min_threshold=min_thresh)\n",
    "            rules.append([min_thresh, min_supp, len(rule)])\n",
    "    \n",
    "    rules = pd.DataFrame(rules, columns=[\"mct\", \"msv\", \"rules\"])\n",
    "    rule = rules.pivot(index=\"mct\", columns=\"msv\", values=\"rules\")\n",
    "    sns.heatmap(rule, annot=True, fmt=\".1f\", cmap=\"crest\", linewidth=0.5)"
   ]
  },
  {
   "cell_type": "code",
   "execution_count": 6,
   "id": "2eb44ad7",
   "metadata": {},
   "outputs": [
    {
     "data": {
      "image/png": "[encoded data removed]",
      "text/plain": [
       "<Figure size 640x480 with 2 Axes>"
      ]
     },
     "metadata": {},
     "output_type": "display_data"
    }
   ],
   "source": [
    "extract_association()"
   ]
  },
  {
   "cell_type": "code",
   "execution_count": 7,
   "id": "1ca9875a",
   "metadata": {},
   "outputs": [],
   "source": [
    "def get_association_rules():    \n",
    "    dataset = get_dataset()   \n",
    "\n",
    "    te = TransactionEncoder()\n",
    "    te_ary = te.fit(dataset).transform(dataset)\n",
    "    df = pd.DataFrame(te_ary, columns=te.columns_)\n",
    "\n",
    "    frequent_itemsets = fpgrowth(df, min_support=0.005, use_colnames=True)\n",
    "    rules = association_rules(frequent_itemsets, metric=\"confidence\", min_threshold=0.1)\n",
    "    \n",
    "    rules = rules.sort_values(by='confidence', ascending=False)\n",
    "    \n",
    "    print(rules)"
   ]
  },
  {
   "cell_type": "code",
   "execution_count": 8,
   "id": "646b7368",
   "metadata": {},
   "outputs": [
    {
     "name": "stdout",
     "output_type": "stream",
     "text": [
      "             antecedents         consequents  antecedent support  \\\n",
      "3         (bottled beer)        (whole milk)            0.046125   \n",
      "18        (citrus fruit)        (whole milk)            0.053125   \n",
      "21          (newspapers)        (whole milk)            0.040125   \n",
      "16         (frankfurter)        (whole milk)            0.037875   \n",
      "10             (sausage)        (whole milk)            0.060875   \n",
      "12           (pip fruit)        (whole milk)            0.050250   \n",
      "1        (bottled water)        (whole milk)            0.060250   \n",
      "9               (yogurt)        (whole milk)            0.086625   \n",
      "19              (pastry)        (whole milk)            0.051125   \n",
      "14      (tropical fruit)        (whole milk)            0.072250   \n",
      "17         (canned beer)        (whole milk)            0.045875   \n",
      "0     (other vegetables)        (whole milk)            0.121500   \n",
      "6        (shopping bags)        (whole milk)            0.048500   \n",
      "20  (whipped/sour cream)  (other vegetables)            0.043000   \n",
      "2           (rolls/buns)        (whole milk)            0.110750   \n",
      "4         (bottled beer)  (other vegetables)            0.046125   \n",
      "5        (shopping bags)        (rolls/buns)            0.048500   \n",
      "7                 (soda)        (whole milk)            0.096250   \n",
      "8                 (soda)  (other vegetables)            0.096250   \n",
      "13           (pip fruit)  (other vegetables)            0.050250   \n",
      "11             (sausage)              (soda)            0.060875   \n",
      "15      (tropical fruit)        (rolls/buns)            0.072250   \n",
      "\n",
      "    consequent support   support  confidence      lift  leverage  conviction  \\\n",
      "3              0.15475  0.007125    0.154472  0.998201 -0.000013    0.999671   \n",
      "18             0.15475  0.008000    0.150588  0.973107 -0.000221    0.995100   \n",
      "21             0.15475  0.005750    0.143302  0.926024 -0.000459    0.986637   \n",
      "16             0.15475  0.005375    0.141914  0.917055 -0.000486    0.985041   \n",
      "10             0.15475  0.008500    0.139630  0.902297 -0.000920    0.982427   \n",
      "12             0.15475  0.006625    0.131841  0.851960 -0.001151    0.973612   \n",
      "1              0.15475  0.007875    0.130705  0.844623 -0.001449    0.972340   \n",
      "9              0.15475  0.011000    0.126984  0.820576 -0.002405    0.968195   \n",
      "19             0.15475  0.006375    0.124694  0.805779 -0.001537    0.965663   \n",
      "14             0.15475  0.009000    0.124567  0.804959 -0.002181    0.965523   \n",
      "17             0.15475  0.005625    0.122616  0.792348 -0.001474    0.963375   \n",
      "0              0.15475  0.014750    0.121399  0.784486 -0.004052    0.962041   \n",
      "6              0.15475  0.005750    0.118557  0.766118 -0.001755    0.958939   \n",
      "20             0.12150  0.005000    0.116279  0.957029 -0.000224    0.994092   \n",
      "2              0.15475  0.012625    0.113995  0.736643 -0.004514    0.954002   \n",
      "4              0.12150  0.005000    0.108401  0.892190 -0.000604    0.985309   \n",
      "5              0.11075  0.005125    0.105670  0.954132 -0.000246    0.994320   \n",
      "7              0.15475  0.010125    0.105195  0.679773 -0.004770    0.944619   \n",
      "8              0.12150  0.009875    0.102597  0.844423 -0.001819    0.978936   \n",
      "13             0.12150  0.005125    0.101990  0.839424 -0.000980    0.978274   \n",
      "11             0.09625  0.006125    0.100616  1.045361  0.000266    1.004854   \n",
      "15             0.11075  0.007250    0.100346  0.906059 -0.000752    0.988436   \n",
      "\n",
      "    zhangs_metric  \n",
      "3       -0.001886  \n",
      "18      -0.028360  \n",
      "21      -0.076831  \n",
      "16      -0.085930  \n",
      "10      -0.103382  \n",
      "12      -0.154661  \n",
      "1       -0.163708  \n",
      "9       -0.193154  \n",
      "19      -0.202565  \n",
      "14      -0.207084  \n",
      "17      -0.215485  \n",
      "0       -0.238220  \n",
      "6       -0.242908  \n",
      "20      -0.044815  \n",
      "2       -0.286751  \n",
      "4       -0.112437  \n",
      "5       -0.048094  \n",
      "7       -0.342646  \n",
      "8       -0.169340  \n",
      "13      -0.167647  \n",
      "11       0.046206  \n",
      "15      -0.100522  \n"
     ]
    }
   ],
   "source": [
    "get_association_rules()"
   ]
  },
  {
   "cell_type": "markdown",
   "id": "e65c7ccf",
   "metadata": {},
   "source": [
    "The highest confidence value is 0.154472"
   ]
  },
  {
   "cell_type": "markdown",
   "id": "e2fe9fc8",
   "metadata": {},
   "source": [
    "# Image Classification using CNN "
   ]
  },
  {
   "cell_type": "code",
   "execution_count": 9,
   "id": "de2a43a8",
   "metadata": {},
   "outputs": [],
   "source": [
    "def grayscale_conversion():\n",
    "    folders = [\"n02102318-cocker_spaniel\", \"n02105056-groenendael\", \"n02106382-Bouvier_des_Flandres\",\n",
    "               \"n02107574-Greater_Swiss_Mountain_dog\"]\n",
    "    \n",
    "    no_of_images = []\n",
    "    for folder in folders:\n",
    "        files = [f for f in os.listdir(f\"../Cropped/{folder}\") if os.path.isfile(os.path.join(f\"../Cropped/{folder}\", f))]\n",
    "        no_of_images.append(len(files))\n",
    "\n",
    "    collect = {}\n",
    "    for folder, count in zip(folders, no_of_images):\n",
    "        all_files = os.listdir(f\"../Cropped/{folder}\")\n",
    "        collect[folder] = all_files\n",
    "        \n",
    "    \n",
    "    grayscaled_images = {}\n",
    "    for folder, images in collect.items():\n",
    "        combine = []\n",
    "        for img in images:\n",
    "            path = f\"../Cropped/{folder}/{img}\"\n",
    "            loaded_image = cv.imread(path)\n",
    "            combine.append(cv.cvtColor(loaded_image, cv.COLOR_BGR2GRAY))\n",
    "        grayscaled_images[folder] = combine\n",
    "    \n",
    "    return grayscaled_images "
   ]
  },
  {
   "cell_type": "code",
   "execution_count": 10,
   "id": "deadff01",
   "metadata": {},
   "outputs": [],
   "source": [
    "def split_dataset():\n",
    "    grayscaled_images = grayscale_conversion()\n",
    "    \n",
    "    training_set = {}\n",
    "    testing_set = {}\n",
    "    for folder in grayscaled_images:\n",
    "        perce_80 = int(len(grayscaled_images[folder]) * 0.8)\n",
    "        training_set[folder] = random.sample(grayscaled_images[folder], perce_80)\n",
    " \n",
    "    for folder, images in grayscaled_images.items():\n",
    "        combine = []\n",
    "        for img in images:\n",
    "            if not np.all(np.equal(img, training_set[folder]), axis=1).any():\n",
    "                combine.append(img)             \n",
    "        testing_set[folder] = combine\n",
    "    \n",
    "    return training_set, testing_set"
   ]
  },
  {
   "cell_type": "code",
   "execution_count": 11,
   "id": "edeb4e57",
   "metadata": {},
   "outputs": [],
   "source": [
    "def train_test_split():\n",
    "    training_set, testing_set = split_dataset()\n",
    "    \n",
    "    X_train, y_train, X_test, y_test = ([] for i in range(4))\n",
    "    \n",
    "    count = 0\n",
    "    for training_folder in training_set:\n",
    "        for training_image in training_set[training_folder]:\n",
    "            X_train.append(training_image.ravel())\n",
    "            y_train.append(count)\n",
    "        count += 1\n",
    "    \n",
    "    count = 0\n",
    "    for testing_folder in testing_set:\n",
    "        for testing_image in testing_set[testing_folder]:\n",
    "            X_test.append(testing_image.ravel())\n",
    "            y_test.append(count)\n",
    "        count += 1\n",
    "    \n",
    "    X_train = np.array(X_train)\n",
    "    y_train = np.array(y_train)\n",
    "    X_test = np.array(X_test)\n",
    "    y_test = np.array(y_test)\n",
    "    \n",
    "    return X_train, y_train, X_test, y_test"
   ]
  },
  {
   "cell_type": "code",
   "execution_count": 12,
   "id": "8779a323",
   "metadata": {},
   "outputs": [],
   "source": [
    "def standardized_dataset():\n",
    "    a, y_train, b, y_test = train_test_split()\n",
    "     \n",
    "    standard = StandardScaler()\n",
    "    X_train = standard.fit_transform(a)\n",
    "    X_test = standard.transform(b)\n",
    "        \n",
    "    return X_train, y_train, X_test, y_test"
   ]
  },
  {
   "cell_type": "code",
   "execution_count": 13,
   "id": "19e9991a",
   "metadata": {},
   "outputs": [],
   "source": [
    "def images_classifier():\n",
    "    num_classes = 4\n",
    "    input_shape = (100, 100, 1)\n",
    "    \n",
    "    model = keras.Sequential(\n",
    "    [\n",
    "        keras.Input(shape=input_shape), \n",
    "        layers.Conv2D(8, kernel_size=(3, 3), activation=\"relu\"), \n",
    "        layers.MaxPooling2D(pool_size=(2, 2)), \n",
    "        layers.Flatten(), \n",
    "        layers.Dense(16, activation=\"relu\"),\n",
    "        layers.Dense(num_classes, activation=\"softmax\")\n",
    "    ]\n",
    "    )\n",
    "    \n",
    "    model.summary()\n",
    "    \n",
    "    return model"
   ]
  },
  {
   "cell_type": "code",
   "execution_count": 14,
   "id": "f0f5d7e6",
   "metadata": {},
   "outputs": [],
   "source": [
    "def train_model():\n",
    "    batch_size = 128\n",
    "    num_epochs = 30\n",
    "    model = images_classifier()\n",
    "    X_train, y_train, X_test, y_test = standardized_dataset()\n",
    "    \n",
    "    X_train = np.reshape(X_train, (X_train.shape[0], 100, 100, 1))\n",
    "    X_test = np.reshape(X_test, (X_test.shape[0], 100, 100, 1))\n",
    "    \n",
    "    y_train = to_categorical(y_train, num_classes=4)\n",
    "    y_test = to_categorical(y_test, num_classes=4)\n",
    "    \n",
    "    model.compile(loss=\"categorical_crossentropy\", optimizer=\"adam\", metrics=[\"accuracy\"])\n",
    "    history = model.fit(X_train, y_train, batch_size=batch_size, epochs=num_epochs, validation_split=0.2)\n",
    "    \n",
    "    return model, history, X_test, y_test"
   ]
  },
  {
   "cell_type": "code",
   "execution_count": 15,
   "id": "5cb7c7b8",
   "metadata": {
    "scrolled": false
   },
   "outputs": [],
   "source": [
    "def model_evaluation():\n",
    "    model, history, X_test, y_test = train_model()\n",
    "    score = model.evaluate(X_test, y_test, verbose=0)\n",
    "    print(\"\\n\\nTest loss:\", score[0])\n",
    "    print(\"Test accuracy:\", score[1])\n",
    "    \n",
    "    return history"
   ]
  },
  {
   "cell_type": "code",
   "execution_count": 16,
   "id": "9f1a31db",
   "metadata": {
    "scrolled": false
   },
   "outputs": [
    {
     "name": "stdout",
     "output_type": "stream",
     "text": [
      "WARNING:tensorflow:From C:\\Users\\noill\\AppData\\Local\\Programs\\Python\\Python310\\lib\\site-packages\\keras\\src\\backend.py:1398: The name tf.executing_eagerly_outside_functions is deprecated. Please use tf.compat.v1.executing_eagerly_outside_functions instead.\n",
      "\n",
      "WARNING:tensorflow:From C:\\Users\\noill\\AppData\\Local\\Programs\\Python\\Python310\\lib\\site-packages\\keras\\src\\layers\\pooling\\max_pooling2d.py:161: The name tf.nn.max_pool is deprecated. Please use tf.nn.max_pool2d instead.\n",
      "\n",
      "Model: \"sequential\"\n",
      "_________________________________________________________________\n",
      " Layer (type)                Output Shape              Param #   \n",
      "=================================================================\n",
      " conv2d (Conv2D)             (None, 98, 98, 8)         80        \n",
      "                                                                 \n",
      " max_pooling2d (MaxPooling2  (None, 49, 49, 8)         0         \n",
      " D)                                                              \n",
      "                                                                 \n",
      " flatten (Flatten)           (None, 19208)             0         \n",
      "                                                                 \n",
      " dense (Dense)               (None, 16)                307344    \n",
      "                                                                 \n",
      " dense_1 (Dense)             (None, 4)                 68        \n",
      "                                                                 \n",
      "=================================================================\n",
      "Total params: 307492 (1.17 MB)\n",
      "Trainable params: 307492 (1.17 MB)\n",
      "Non-trainable params: 0 (0.00 Byte)\n",
      "_________________________________________________________________\n",
      "WARNING:tensorflow:From C:\\Users\\noill\\AppData\\Local\\Programs\\Python\\Python310\\lib\\site-packages\\keras\\src\\optimizers\\__init__.py:309: The name tf.train.Optimizer is deprecated. Please use tf.compat.v1.train.Optimizer instead.\n",
      "\n",
      "Epoch 1/30\n",
      "WARNING:tensorflow:From C:\\Users\\noill\\AppData\\Local\\Programs\\Python\\Python310\\lib\\site-packages\\keras\\src\\utils\\tf_utils.py:492: The name tf.ragged.RaggedTensorValue is deprecated. Please use tf.compat.v1.ragged.RaggedTensorValue instead.\n",
      "\n",
      "WARNING:tensorflow:From C:\\Users\\noill\\AppData\\Local\\Programs\\Python\\Python310\\lib\\site-packages\\keras\\src\\engine\\base_layer_utils.py:384: The name tf.executing_eagerly_outside_functions is deprecated. Please use tf.compat.v1.executing_eagerly_outside_functions instead.\n",
      "\n",
      "4/4 [==============================] - 2s 154ms/step - loss: 1.4516 - accuracy: 0.4145 - val_loss: 0.9773 - val_accuracy: 0.8365\n",
      "Epoch 2/30\n",
      "4/4 [==============================] - 0s 43ms/step - loss: 1.0551 - accuracy: 0.5542 - val_loss: 2.6741 - val_accuracy: 0.0000e+00\n",
      "Epoch 3/30\n",
      "4/4 [==============================] - 0s 45ms/step - loss: 0.9764 - accuracy: 0.5735 - val_loss: 2.8071 - val_accuracy: 0.0000e+00\n",
      "Epoch 4/30\n",
      "4/4 [==============================] - 0s 46ms/step - loss: 0.8877 - accuracy: 0.6265 - val_loss: 1.9905 - val_accuracy: 0.1442\n",
      "Epoch 5/30\n",
      "4/4 [==============================] - 0s 44ms/step - loss: 0.8184 - accuracy: 0.6819 - val_loss: 1.0349 - val_accuracy: 0.6154\n",
      "Epoch 6/30\n",
      "4/4 [==============================] - 0s 48ms/step - loss: 0.7917 - accuracy: 0.6964 - val_loss: 1.3891 - val_accuracy: 0.2981\n",
      "Epoch 7/30\n",
      "4/4 [==============================] - 0s 50ms/step - loss: 0.6889 - accuracy: 0.7277 - val_loss: 1.9207 - val_accuracy: 0.2115\n",
      "Epoch 8/30\n",
      "4/4 [==============================] - 0s 46ms/step - loss: 0.6455 - accuracy: 0.7373 - val_loss: 1.4601 - val_accuracy: 0.3750\n",
      "Epoch 9/30\n",
      "4/4 [==============================] - 0s 49ms/step - loss: 0.6303 - accuracy: 0.7590 - val_loss: 1.6633 - val_accuracy: 0.2981\n",
      "Epoch 10/30\n",
      "4/4 [==============================] - 0s 47ms/step - loss: 0.5645 - accuracy: 0.7831 - val_loss: 1.2945 - val_accuracy: 0.5192\n",
      "Epoch 11/30\n",
      "4/4 [==============================] - 0s 47ms/step - loss: 0.5319 - accuracy: 0.8386 - val_loss: 1.0400 - val_accuracy: 0.6154\n",
      "Epoch 12/30\n",
      "4/4 [==============================] - 0s 50ms/step - loss: 0.4788 - accuracy: 0.8482 - val_loss: 1.8814 - val_accuracy: 0.3173\n",
      "Epoch 13/30\n",
      "4/4 [==============================] - 0s 43ms/step - loss: 0.4383 - accuracy: 0.8627 - val_loss: 1.4123 - val_accuracy: 0.5096\n",
      "Epoch 14/30\n",
      "4/4 [==============================] - 0s 51ms/step - loss: 0.4124 - accuracy: 0.8602 - val_loss: 1.4820 - val_accuracy: 0.4615\n",
      "Epoch 15/30\n",
      "4/4 [==============================] - 0s 51ms/step - loss: 0.3855 - accuracy: 0.8675 - val_loss: 1.4187 - val_accuracy: 0.4808\n",
      "Epoch 16/30\n",
      "4/4 [==============================] - 0s 49ms/step - loss: 0.3440 - accuracy: 0.8964 - val_loss: 1.7314 - val_accuracy: 0.4519\n",
      "Epoch 17/30\n",
      "4/4 [==============================] - 0s 57ms/step - loss: 0.3152 - accuracy: 0.9012 - val_loss: 1.7985 - val_accuracy: 0.4231\n",
      "Epoch 18/30\n",
      "4/4 [==============================] - 0s 49ms/step - loss: 0.3013 - accuracy: 0.9229 - val_loss: 1.5516 - val_accuracy: 0.5096\n",
      "Epoch 19/30\n",
      "4/4 [==============================] - 0s 44ms/step - loss: 0.2620 - accuracy: 0.9253 - val_loss: 1.7500 - val_accuracy: 0.4519\n",
      "Epoch 20/30\n",
      "4/4 [==============================] - 0s 46ms/step - loss: 0.2338 - accuracy: 0.9446 - val_loss: 1.8168 - val_accuracy: 0.4615\n",
      "Epoch 21/30\n",
      "4/4 [==============================] - 0s 49ms/step - loss: 0.2182 - accuracy: 0.9518 - val_loss: 1.6746 - val_accuracy: 0.4808\n",
      "Epoch 22/30\n",
      "4/4 [==============================] - 0s 62ms/step - loss: 0.1957 - accuracy: 0.9566 - val_loss: 1.6958 - val_accuracy: 0.4808\n",
      "Epoch 23/30\n",
      "4/4 [==============================] - 0s 51ms/step - loss: 0.1767 - accuracy: 0.9590 - val_loss: 1.9367 - val_accuracy: 0.4519\n",
      "Epoch 24/30\n",
      "4/4 [==============================] - 0s 43ms/step - loss: 0.1606 - accuracy: 0.9614 - val_loss: 2.2596 - val_accuracy: 0.4327\n",
      "Epoch 25/30\n",
      "4/4 [==============================] - 0s 46ms/step - loss: 0.1473 - accuracy: 0.9687 - val_loss: 1.9286 - val_accuracy: 0.4712\n",
      "Epoch 26/30\n",
      "4/4 [==============================] - 0s 55ms/step - loss: 0.1373 - accuracy: 0.9711 - val_loss: 1.8886 - val_accuracy: 0.4904\n",
      "Epoch 27/30\n",
      "4/4 [==============================] - 0s 42ms/step - loss: 0.1197 - accuracy: 0.9807 - val_loss: 1.8861 - val_accuracy: 0.4615\n",
      "Epoch 28/30\n",
      "4/4 [==============================] - 0s 48ms/step - loss: 0.1200 - accuracy: 0.9759 - val_loss: 2.1828 - val_accuracy: 0.4231\n",
      "Epoch 29/30\n",
      "4/4 [==============================] - 0s 63ms/step - loss: 0.1042 - accuracy: 0.9855 - val_loss: 2.1903 - val_accuracy: 0.4423\n",
      "Epoch 30/30\n",
      "4/4 [==============================] - 0s 45ms/step - loss: 0.0870 - accuracy: 0.9880 - val_loss: 2.3292 - val_accuracy: 0.4327\n",
      "\n",
      "\n",
      "Test loss: 1.6454555988311768\n",
      "Test accuracy: 0.5681818127632141\n"
     ]
    }
   ],
   "source": [
    "model = model_evaluation()"
   ]
  },
  {
   "cell_type": "code",
   "execution_count": 17,
   "id": "57ac373d",
   "metadata": {},
   "outputs": [
    {
     "data": {
      "image/png": "[encoded data removed]",
      "text/plain": [
       "<Figure size 640x480 with 1 Axes>"
      ]
     },
     "metadata": {},
     "output_type": "display_data"
    }
   ],
   "source": [
    "def plot_learning_curve():    \n",
    "    plt.plot(model.history[\"accuracy\"], label=\"Training Accuracy\")\n",
    "    plt.plot(model.history[\"val_accuracy\"], label=\"Validation Accuracy\")\n",
    "    plt.xlabel(\"Number of epochs\")\n",
    "    plt.ylabel(\"Training and validation accuracy\")\n",
    "    plt.title(\"Learning curve for 3x3\")\n",
    "    plt.grid(True)\n",
    "    plt.show()\n",
    "    \n",
    "plot_learning_curve()"
   ]
  },
  {
   "cell_type": "markdown",
   "id": "6d103ccc",
   "metadata": {},
   "source": [
    "# The last digit of my banner id is 1"
   ]
  },
  {
   "cell_type": "code",
   "execution_count": 18,
   "id": "38e48261",
   "metadata": {},
   "outputs": [],
   "source": [
    "def cnn_classifier_1():\n",
    "    num_classes = 4\n",
    "    input_shape = (100, 100, 1)\n",
    "    \n",
    "    model = keras.Sequential(\n",
    "    [\n",
    "        keras.Input(shape=input_shape), \n",
    "        layers.Conv2D(16, kernel_size=(5, 5), activation=\"relu\"),\n",
    "        layers.MaxPooling2D(pool_size=(2, 2)), \n",
    "        layers.Flatten(), \n",
    "        layers.Dense(16, activation=\"relu\"),\n",
    "        layers.Dense(num_classes, activation=\"softmax\")\n",
    "    ]\n",
    "    )\n",
    "    \n",
    "    model.summary()\n",
    "    \n",
    "    return model"
   ]
  },
  {
   "cell_type": "code",
   "execution_count": 19,
   "id": "b21a4e4c",
   "metadata": {},
   "outputs": [],
   "source": [
    "def fit_model_1():\n",
    "    batch_size = 128\n",
    "    num_epochs = 30\n",
    "    model = cnn_classifier_1()\n",
    "    X_train, y_train, X_test, y_test = standardized_dataset()\n",
    "    \n",
    "    X_train = np.reshape(X_train, (X_train.shape[0], 100, 100, 1))\n",
    "    X_test = np.reshape(X_test, (X_test.shape[0], 100, 100, 1))\n",
    "    \n",
    "    y_train = to_categorical(y_train, num_classes=4)\n",
    "    y_test = to_categorical(y_test, num_classes=4)\n",
    "    \n",
    "    model.compile(loss=\"categorical_crossentropy\", optimizer=\"adam\", metrics=[\"accuracy\"])\n",
    "    history = model.fit(X_train, y_train, batch_size=batch_size, epochs=num_epochs, validation_split=0.2)\n",
    "    \n",
    "    return model, history, X_test, y_test"
   ]
  },
  {
   "cell_type": "code",
   "execution_count": 20,
   "id": "ef6d1168",
   "metadata": {},
   "outputs": [],
   "source": [
    "def evaluate_model_1():\n",
    "    model, history, X_test, y_test = fit_model_1()\n",
    "    score = model.evaluate(X_test, y_test, verbose=0)\n",
    "    print(\"\\n\\nTest loss:\", score[0])\n",
    "    print(\"Test accuracy:\", score[1])\n",
    "    \n",
    "    return history"
   ]
  },
  {
   "cell_type": "code",
   "execution_count": 21,
   "id": "180e7315",
   "metadata": {
    "scrolled": false
   },
   "outputs": [
    {
     "name": "stdout",
     "output_type": "stream",
     "text": [
      "Model: \"sequential_1\"\n",
      "_________________________________________________________________\n",
      " Layer (type)                Output Shape              Param #   \n",
      "=================================================================\n",
      " conv2d_1 (Conv2D)           (None, 96, 96, 16)        416       \n",
      "                                                                 \n",
      " max_pooling2d_1 (MaxPoolin  (None, 48, 48, 16)        0         \n",
      " g2D)                                                            \n",
      "                                                                 \n",
      " flatten_1 (Flatten)         (None, 36864)             0         \n",
      "                                                                 \n",
      " dense_2 (Dense)             (None, 16)                589840    \n",
      "                                                                 \n",
      " dense_3 (Dense)             (None, 4)                 68        \n",
      "                                                                 \n",
      "=================================================================\n",
      "Total params: 590324 (2.25 MB)\n",
      "Trainable params: 590324 (2.25 MB)\n",
      "Non-trainable params: 0 (0.00 Byte)\n",
      "_________________________________________________________________\n",
      "Epoch 1/30\n",
      "4/4 [==============================] - 2s 166ms/step - loss: 1.6234 - accuracy: 0.3349 - val_loss: 1.1625 - val_accuracy: 0.0000e+00\n",
      "Epoch 2/30\n",
      "4/4 [==============================] - 0s 68ms/step - loss: 1.2255 - accuracy: 0.4554 - val_loss: 3.0852 - val_accuracy: 0.0000e+00\n",
      "Epoch 3/30\n",
      "4/4 [==============================] - 0s 73ms/step - loss: 1.0905 - accuracy: 0.5325 - val_loss: 1.8305 - val_accuracy: 0.0000e+00\n",
      "Epoch 4/30\n",
      "4/4 [==============================] - 0s 70ms/step - loss: 0.9179 - accuracy: 0.6096 - val_loss: 1.7437 - val_accuracy: 0.0000e+00\n",
      "Epoch 5/30\n",
      "4/4 [==============================] - 0s 69ms/step - loss: 0.8147 - accuracy: 0.6578 - val_loss: 2.4012 - val_accuracy: 0.0000e+00\n",
      "Epoch 6/30\n",
      "4/4 [==============================] - 0s 69ms/step - loss: 0.7757 - accuracy: 0.6723 - val_loss: 2.0888 - val_accuracy: 0.0000e+00\n",
      "Epoch 7/30\n",
      "4/4 [==============================] - 0s 60ms/step - loss: 0.7104 - accuracy: 0.7277 - val_loss: 1.7484 - val_accuracy: 0.0192\n",
      "Epoch 8/30\n",
      "4/4 [==============================] - 0s 69ms/step - loss: 0.6695 - accuracy: 0.7518 - val_loss: 1.9842 - val_accuracy: 0.0192\n",
      "Epoch 9/30\n",
      "4/4 [==============================] - 0s 58ms/step - loss: 0.6033 - accuracy: 0.7663 - val_loss: 2.3985 - val_accuracy: 0.0192\n",
      "Epoch 10/30\n",
      "4/4 [==============================] - 0s 60ms/step - loss: 0.5737 - accuracy: 0.7783 - val_loss: 2.2317 - val_accuracy: 0.0288\n",
      "Epoch 11/30\n",
      "4/4 [==============================] - 0s 71ms/step - loss: 0.5021 - accuracy: 0.8193 - val_loss: 2.1419 - val_accuracy: 0.0288\n",
      "Epoch 12/30\n",
      "4/4 [==============================] - 0s 64ms/step - loss: 0.4641 - accuracy: 0.8120 - val_loss: 2.2284 - val_accuracy: 0.0481\n",
      "Epoch 13/30\n",
      "4/4 [==============================] - 0s 67ms/step - loss: 0.4166 - accuracy: 0.8410 - val_loss: 2.5943 - val_accuracy: 0.0192\n",
      "Epoch 14/30\n",
      "4/4 [==============================] - 0s 72ms/step - loss: 0.3767 - accuracy: 0.8723 - val_loss: 3.0328 - val_accuracy: 0.0000e+00\n",
      "Epoch 15/30\n",
      "4/4 [==============================] - 0s 71ms/step - loss: 0.3474 - accuracy: 0.8554 - val_loss: 2.6905 - val_accuracy: 0.0481\n",
      "Epoch 16/30\n",
      "4/4 [==============================] - 0s 67ms/step - loss: 0.3177 - accuracy: 0.9301 - val_loss: 2.6672 - val_accuracy: 0.0577\n",
      "Epoch 17/30\n",
      "4/4 [==============================] - 0s 67ms/step - loss: 0.2781 - accuracy: 0.9301 - val_loss: 3.2665 - val_accuracy: 0.0288\n",
      "Epoch 18/30\n",
      "4/4 [==============================] - 0s 73ms/step - loss: 0.2596 - accuracy: 0.9157 - val_loss: 2.9575 - val_accuracy: 0.0673\n",
      "Epoch 19/30\n",
      "4/4 [==============================] - 0s 72ms/step - loss: 0.2287 - accuracy: 0.9614 - val_loss: 3.1930 - val_accuracy: 0.0673\n",
      "Epoch 20/30\n",
      "4/4 [==============================] - 0s 67ms/step - loss: 0.2064 - accuracy: 0.9614 - val_loss: 2.9857 - val_accuracy: 0.0962\n",
      "Epoch 21/30\n",
      "4/4 [==============================] - 0s 81ms/step - loss: 0.1842 - accuracy: 0.9759 - val_loss: 3.1212 - val_accuracy: 0.0962\n",
      "Epoch 22/30\n",
      "4/4 [==============================] - 0s 64ms/step - loss: 0.1676 - accuracy: 0.9783 - val_loss: 3.3730 - val_accuracy: 0.0673\n",
      "Epoch 23/30\n",
      "4/4 [==============================] - 0s 72ms/step - loss: 0.1466 - accuracy: 0.9807 - val_loss: 3.2730 - val_accuracy: 0.1154\n",
      "Epoch 24/30\n",
      "4/4 [==============================] - 0s 62ms/step - loss: 0.1299 - accuracy: 0.9807 - val_loss: 3.4377 - val_accuracy: 0.1058\n",
      "Epoch 25/30\n",
      "4/4 [==============================] - 0s 74ms/step - loss: 0.1149 - accuracy: 0.9880 - val_loss: 3.5750 - val_accuracy: 0.1058\n",
      "Epoch 26/30\n",
      "4/4 [==============================] - 0s 76ms/step - loss: 0.1057 - accuracy: 0.9904 - val_loss: 3.7583 - val_accuracy: 0.0962\n",
      "Epoch 27/30\n",
      "4/4 [==============================] - 0s 81ms/step - loss: 0.0924 - accuracy: 0.9952 - val_loss: 3.4063 - val_accuracy: 0.1538\n",
      "Epoch 28/30\n",
      "4/4 [==============================] - 0s 74ms/step - loss: 0.0821 - accuracy: 0.9976 - val_loss: 3.3500 - val_accuracy: 0.1923\n",
      "Epoch 29/30\n",
      "4/4 [==============================] - 0s 88ms/step - loss: 0.0724 - accuracy: 0.9976 - val_loss: 3.9715 - val_accuracy: 0.1154\n",
      "Epoch 30/30\n",
      "4/4 [==============================] - 0s 72ms/step - loss: 0.0667 - accuracy: 0.9976 - val_loss: 3.9700 - val_accuracy: 0.1250\n",
      "\n",
      "\n",
      "Test loss: 2.1785926818847656\n",
      "Test accuracy: 0.4545454680919647\n"
     ]
    }
   ],
   "source": [
    "history_1 = evaluate_model_1()"
   ]
  },
  {
   "cell_type": "code",
   "execution_count": 22,
   "id": "c19c7e0b",
   "metadata": {},
   "outputs": [
    {
     "data": {
      "image/png": "[encoded data removed]",
      "text/plain": [
       "<Figure size 640x480 with 1 Axes>"
      ]
     },
     "metadata": {},
     "output_type": "display_data"
    }
   ],
   "source": [
    "def plot_new_curve_1():    \n",
    "    plt.plot(history_1.history[\"accuracy\"], label=\"Training Accuracy\")\n",
    "    plt.plot(history_1.history[\"val_accuracy\"], label=\"Validation Accuracy\")\n",
    "    plt.xlabel(\"Number of epochs\")\n",
    "    plt.ylabel(\"Training and validation accuracy\")\n",
    "    plt.title(\"Learning curve for 5x5\")\n",
    "    plt.grid(True)\n",
    "    plt.show()\n",
    "    \n",
    "plot_new_curve_1()"
   ]
  },
  {
   "cell_type": "code",
   "execution_count": 23,
   "id": "ebaa11f0",
   "metadata": {},
   "outputs": [],
   "source": [
    "def cnn_classifier_2():\n",
    "    num_classes = 4\n",
    "    input_shape = (100, 100, 1)\n",
    "    \n",
    "    model = keras.Sequential(\n",
    "    [\n",
    "        keras.Input(shape=input_shape), \n",
    "        layers.Conv2D(16, kernel_size=(7, 7), activation=\"relu\"),\n",
    "        layers.MaxPooling2D(pool_size=(2, 2)), \n",
    "        layers.Flatten(), \n",
    "        layers.Dense(16, activation=\"relu\"),\n",
    "        layers.Dense(num_classes, activation=\"softmax\")\n",
    "    ]\n",
    "    )\n",
    "    \n",
    "    model.summary()\n",
    "    \n",
    "    return model"
   ]
  },
  {
   "cell_type": "code",
   "execution_count": 24,
   "id": "c953890a",
   "metadata": {},
   "outputs": [],
   "source": [
    "def fit_model_2():\n",
    "    batch_size = 128\n",
    "    num_epochs = 30\n",
    "    model = cnn_classifier_2()\n",
    "    X_train, y_train, X_test, y_test = standardized_dataset()\n",
    "    \n",
    "    X_train = np.reshape(X_train, (X_train.shape[0], 100, 100, 1))\n",
    "    X_test = np.reshape(X_test, (X_test.shape[0], 100, 100, 1))\n",
    "    \n",
    "    y_train = to_categorical(y_train, num_classes=4)\n",
    "    y_test = to_categorical(y_test, num_classes=4)\n",
    "    \n",
    "    model.compile(loss=\"categorical_crossentropy\", optimizer=\"adam\", metrics=[\"accuracy\"])\n",
    "    history = model.fit(X_train, y_train, batch_size=batch_size, epochs=num_epochs, validation_split=0.2)\n",
    "    \n",
    "    return model, history, X_test, y_test"
   ]
  },
  {
   "cell_type": "code",
   "execution_count": 25,
   "id": "00182f15",
   "metadata": {},
   "outputs": [],
   "source": [
    "def evaluate_model_2():\n",
    "    model, history, X_test, y_test = fit_model_2()\n",
    "    score = model.evaluate(X_test, y_test, verbose=0)\n",
    "    print(\"\\n\\nTest loss:\", score[0])\n",
    "    print(\"Test accuracy:\", score[1])\n",
    "    \n",
    "    return history"
   ]
  },
  {
   "cell_type": "code",
   "execution_count": 26,
   "id": "19fe9c16",
   "metadata": {
    "scrolled": false
   },
   "outputs": [
    {
     "name": "stdout",
     "output_type": "stream",
     "text": [
      "Model: \"sequential_2\"\n",
      "_________________________________________________________________\n",
      " Layer (type)                Output Shape              Param #   \n",
      "=================================================================\n",
      " conv2d_2 (Conv2D)           (None, 94, 94, 16)        800       \n",
      "                                                                 \n",
      " max_pooling2d_2 (MaxPoolin  (None, 47, 47, 16)        0         \n",
      " g2D)                                                            \n",
      "                                                                 \n",
      " flatten_2 (Flatten)         (None, 35344)             0         \n",
      "                                                                 \n",
      " dense_4 (Dense)             (None, 16)                565520    \n",
      "                                                                 \n",
      " dense_5 (Dense)             (None, 4)                 68        \n",
      "                                                                 \n",
      "=================================================================\n",
      "Total params: 566388 (2.16 MB)\n",
      "Trainable params: 566388 (2.16 MB)\n",
      "Non-trainable params: 0 (0.00 Byte)\n",
      "_________________________________________________________________\n",
      "Epoch 1/30\n",
      "4/4 [==============================] - 2s 181ms/step - loss: 2.2590 - accuracy: 0.4024 - val_loss: 4.3007 - val_accuracy: 0.0000e+00\n",
      "Epoch 2/30\n",
      "4/4 [==============================] - 0s 79ms/step - loss: 1.3650 - accuracy: 0.4145 - val_loss: 1.4286 - val_accuracy: 0.0000e+00\n",
      "Epoch 3/30\n",
      "4/4 [==============================] - 0s 55ms/step - loss: 1.1219 - accuracy: 0.5084 - val_loss: 1.9375 - val_accuracy: 0.0000e+00\n",
      "Epoch 4/30\n",
      "4/4 [==============================] - 0s 57ms/step - loss: 0.9491 - accuracy: 0.5518 - val_loss: 2.4160 - val_accuracy: 0.0000e+00\n",
      "Epoch 5/30\n",
      "4/4 [==============================] - 0s 55ms/step - loss: 0.8684 - accuracy: 0.6145 - val_loss: 2.3510 - val_accuracy: 0.0385\n",
      "Epoch 6/30\n",
      "4/4 [==============================] - 0s 71ms/step - loss: 0.8393 - accuracy: 0.6434 - val_loss: 2.0791 - val_accuracy: 0.0481\n",
      "Epoch 7/30\n",
      "4/4 [==============================] - 0s 57ms/step - loss: 0.7486 - accuracy: 0.7108 - val_loss: 2.1624 - val_accuracy: 0.0096\n",
      "Epoch 8/30\n",
      "4/4 [==============================] - 0s 71ms/step - loss: 0.6962 - accuracy: 0.7157 - val_loss: 2.5044 - val_accuracy: 0.0096\n",
      "Epoch 9/30\n",
      "4/4 [==============================] - 0s 79ms/step - loss: 0.6373 - accuracy: 0.7542 - val_loss: 2.6255 - val_accuracy: 0.0096\n",
      "Epoch 10/30\n",
      "4/4 [==============================] - 0s 73ms/step - loss: 0.5819 - accuracy: 0.7735 - val_loss: 2.5092 - val_accuracy: 0.0192\n",
      "Epoch 11/30\n",
      "4/4 [==============================] - 0s 72ms/step - loss: 0.5445 - accuracy: 0.7880 - val_loss: 2.4025 - val_accuracy: 0.0192\n",
      "Epoch 12/30\n",
      "4/4 [==============================] - 0s 65ms/step - loss: 0.5005 - accuracy: 0.8169 - val_loss: 2.5687 - val_accuracy: 0.0192\n",
      "Epoch 13/30\n",
      "4/4 [==============================] - 0s 73ms/step - loss: 0.4539 - accuracy: 0.8241 - val_loss: 2.7038 - val_accuracy: 0.0096\n",
      "Epoch 14/30\n",
      "4/4 [==============================] - 0s 70ms/step - loss: 0.4181 - accuracy: 0.8361 - val_loss: 2.7143 - val_accuracy: 0.0096\n",
      "Epoch 15/30\n",
      "4/4 [==============================] - 0s 67ms/step - loss: 0.3929 - accuracy: 0.8410 - val_loss: 3.0162 - val_accuracy: 0.0000e+00\n",
      "Epoch 16/30\n",
      "4/4 [==============================] - 0s 61ms/step - loss: 0.3681 - accuracy: 0.8530 - val_loss: 2.9070 - val_accuracy: 0.0000e+00\n",
      "Epoch 17/30\n",
      "4/4 [==============================] - 0s 69ms/step - loss: 0.3426 - accuracy: 0.8578 - val_loss: 2.9218 - val_accuracy: 0.0000e+00\n",
      "Epoch 18/30\n",
      "4/4 [==============================] - 0s 68ms/step - loss: 0.3142 - accuracy: 0.8699 - val_loss: 3.2779 - val_accuracy: 0.0000e+00\n",
      "Epoch 19/30\n",
      "4/4 [==============================] - 0s 65ms/step - loss: 0.2899 - accuracy: 0.8795 - val_loss: 3.0546 - val_accuracy: 0.0096\n",
      "Epoch 20/30\n",
      "4/4 [==============================] - 0s 72ms/step - loss: 0.2771 - accuracy: 0.8867 - val_loss: 3.1560 - val_accuracy: 0.0000e+00\n",
      "Epoch 21/30\n",
      "4/4 [==============================] - 0s 61ms/step - loss: 0.2582 - accuracy: 0.8771 - val_loss: 3.6820 - val_accuracy: 0.0000e+00\n",
      "Epoch 22/30\n",
      "4/4 [==============================] - 0s 61ms/step - loss: 0.2447 - accuracy: 0.8867 - val_loss: 3.5167 - val_accuracy: 0.0000e+00\n",
      "Epoch 23/30\n",
      "4/4 [==============================] - 0s 73ms/step - loss: 0.2270 - accuracy: 0.8988 - val_loss: 3.5220 - val_accuracy: 0.0000e+00\n",
      "Epoch 24/30\n",
      "4/4 [==============================] - 0s 77ms/step - loss: 0.2141 - accuracy: 0.8988 - val_loss: 3.7327 - val_accuracy: 0.0000e+00\n",
      "Epoch 25/30\n",
      "4/4 [==============================] - 0s 85ms/step - loss: 0.2035 - accuracy: 0.9012 - val_loss: 3.7770 - val_accuracy: 0.0000e+00\n",
      "Epoch 26/30\n",
      "4/4 [==============================] - 0s 92ms/step - loss: 0.1968 - accuracy: 0.9012 - val_loss: 3.6964 - val_accuracy: 0.0000e+00\n",
      "Epoch 27/30\n",
      "4/4 [==============================] - 0s 66ms/step - loss: 0.1874 - accuracy: 0.9205 - val_loss: 3.3799 - val_accuracy: 0.0000e+00\n",
      "Epoch 28/30\n",
      "4/4 [==============================] - 0s 60ms/step - loss: 0.1797 - accuracy: 0.9205 - val_loss: 3.7220 - val_accuracy: 0.0000e+00\n",
      "Epoch 29/30\n",
      "4/4 [==============================] - 0s 57ms/step - loss: 0.1713 - accuracy: 0.9108 - val_loss: 4.0325 - val_accuracy: 0.0000e+00\n",
      "Epoch 30/30\n",
      "4/4 [==============================] - 0s 60ms/step - loss: 0.1636 - accuracy: 0.9108 - val_loss: 3.7494 - val_accuracy: 0.0000e+00\n",
      "\n",
      "\n",
      "Test loss: 1.6819171905517578\n",
      "Test accuracy: 0.5075757503509521\n"
     ]
    }
   ],
   "source": [
    "history_2 = evaluate_model_2()"
   ]
  },
  {
   "cell_type": "code",
   "execution_count": 27,
   "id": "8e420e08",
   "metadata": {},
   "outputs": [
    {
     "data": {
      "image/png": "[encoded data removed]",
      "text/plain": [
       "<Figure size 640x480 with 1 Axes>"
      ]
     },
     "metadata": {},
     "output_type": "display_data"
    }
   ],
   "source": [
    "def plot_new_curve_2():    \n",
    "    plt.plot(history_2.history[\"accuracy\"], label=\"Training Accuracy\")\n",
    "    plt.plot(history_2.history[\"val_accuracy\"], label=\"Validation Accuracy\")\n",
    "    plt.xlabel(\"Number of epochs\")\n",
    "    plt.ylabel(\"Training and validation accuracy\")\n",
    "    plt.title(\"Learning curve for 7x7\")\n",
    "    plt.grid(True)\n",
    "    plt.show()\n",
    "    \n",
    "plot_new_curve_2()"
   ]
  },
  {
   "cell_type": "markdown",
   "id": "af02f536",
   "metadata": {},
   "source": [
    "The model with the 3x3 filter size has the best accuracy with 57%, while the 5x5 model has the lowest with 45%. Additionally, the 5x5 model has the highest test loss with 2.18, while the 3x3 has the lowest with 1.65. Overall, all the models are underfitting since their accuracy 57&, 45% and 51% for 3x3, 5x5 and 7x7 respectivley."
   ]
  }
 ],
 "metadata": {
  "kernelspec": {
   "display_name": "Python 3 (ipykernel)",
   "language": "python",
   "name": "python3"
  },
  "language_info": {
   "codemirror_mode": {
    "name": "ipython",
    "version": 3
   },
   "file_extension": ".py",
   "mimetype": "text/x-python",
   "name": "python",
   "nbconvert_exporter": "python",
   "pygments_lexer": "ipython3",
   "version": "3.10.9"
  }
 },
 "nbformat": 4,
 "nbformat_minor": 5
}
