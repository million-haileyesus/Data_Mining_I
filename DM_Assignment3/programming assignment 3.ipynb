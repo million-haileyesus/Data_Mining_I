{
 "cells": [
  {
   "cell_type": "code",
   "execution_count": 1,
   "id": "03e151ff",
   "metadata": {},
   "outputs": [
    {
     "name": "stdout",
     "output_type": "stream",
     "text": [
      "WARNING:tensorflow:From C:\\Users\\noill\\AppData\\Local\\Programs\\Python\\Python310\\lib\\site-packages\\keras\\src\\losses.py:2976: The name tf.losses.sparse_softmax_cross_entropy is deprecated. Please use tf.compat.v1.losses.sparse_softmax_cross_entropy instead.\n",
      "\n"
     ]
    }
   ],
   "source": [
    "import os\n",
    "import random\n",
    "import cv2 as cv\n",
    "import numpy as np\n",
    "import pandas as pd\n",
    "import seaborn as sns\n",
    "from matplotlib import pyplot as plt\n",
    "from mlxtend.preprocessing import TransactionEncoder\n",
    "from mlxtend.frequent_patterns import apriori, association_rules, fpmax, fpgrowth\n",
    "from sklearn.preprocessing import StandardScaler\n",
    "from tensorflow import keras\n",
    "from tensorflow.keras import layers\n",
    "from tensorflow.keras.utils import to_categorical"
   ]
  },
  {
   "cell_type": "code",
   "execution_count": 2,
   "id": "731d5715",
   "metadata": {},
   "outputs": [],
   "source": [
    "def get_dataset():\n",
    "    dataset = []\n",
    "    csv_file = \"../Grocery_Items_21.csv\"\n",
    "    data = pd.read_csv(f\"{csv_file}\")\n",
    "    \n",
    "    for i in range(len(data)):\n",
    "        row_values = data.iloc[i].values\n",
    "        items = [item.strip() for item in row_values if pd.notna(item)]\n",
    "        dataset.append(items)\n",
    "        \n",
    "    return dataset"
   ]
  },
  {
   "cell_type": "code",
   "execution_count": 3,
   "id": "92376bf5",
   "metadata": {},
   "outputs": [],
   "source": [
    "def get_association_rules():    \n",
    "    dataset = get_dataset()   \n",
    "\n",
    "    te = TransactionEncoder()\n",
    "    te_ary = te.fit(dataset).transform(dataset)\n",
    "    df = pd.DataFrame(te_ary, columns=te.columns_)\n",
    "\n",
    "    frequent_itemsets = fpgrowth(df, min_support=0.01, use_colnames=True)\n",
    "    rules = association_rules(frequent_itemsets, metric=\"confidence\", min_threshold=0.1)\n",
    "    \n",
    "    print(rules)"
   ]
  },
  {
   "cell_type": "code",
   "execution_count": 4,
   "id": "4437b982",
   "metadata": {},
   "outputs": [
    {
     "name": "stdout",
     "output_type": "stream",
     "text": [
      "          antecedents   consequents  antecedent support  consequent support  \\\n",
      "0  (other vegetables)  (whole milk)            0.121500             0.15475   \n",
      "1        (rolls/buns)  (whole milk)            0.110750             0.15475   \n",
      "2              (soda)  (whole milk)            0.096250             0.15475   \n",
      "3            (yogurt)  (whole milk)            0.086625             0.15475   \n",
      "\n",
      "    support  confidence      lift  leverage  conviction  zhangs_metric  \n",
      "0  0.014750    0.121399  0.784486 -0.004052    0.962041      -0.238220  \n",
      "1  0.012625    0.113995  0.736643 -0.004514    0.954002      -0.286751  \n",
      "2  0.010125    0.105195  0.679773 -0.004770    0.944619      -0.342646  \n",
      "3  0.011000    0.126984  0.820576 -0.002405    0.968195      -0.193154  \n"
     ]
    }
   ],
   "source": [
    "get_association_rules()"
   ]
  },
  {
   "cell_type": "code",
   "execution_count": 5,
   "id": "9d1f3115",
   "metadata": {
    "scrolled": false
   },
   "outputs": [],
   "source": [
    "def extract_association():\n",
    "    minimum_support=values = [0.001, 0.005, 0.01, 0.05]\n",
    "    minimum_confidence_threshold = [0.05, 0.075, 0.1]\n",
    "    dataset = get_dataset()   \n",
    "\n",
    "    te = TransactionEncoder()\n",
    "    te_ary = te.fit(dataset).transform(dataset)\n",
    "    df = pd.DataFrame(te_ary, columns=te.columns_)\n",
    "\n",
    "    frequent_itemsets = []\n",
    "    rules = []\n",
    "    for min_supp in minimum_support:\n",
    "        for min_thresh in minimum_confidence_threshold:\n",
    "            frequent_itemsets.append(fpgrowth(df, min_support=min_supp, use_colnames=True))\n",
    "            rule = association_rules(frequent_itemsets[-1], metric=\"confidence\", min_threshold=min_thresh)\n",
    "            rules.append([min_thresh, min_supp, len(rule)])\n",
    "    \n",
    "    rules = pd.DataFrame(rules, columns=[\"mct\", \"msv\", \"rules\"])\n",
    "    rule = rules.pivot(index=\"mct\", columns=\"msv\", values=\"rules\")\n",
    "    sns.heatmap(rule, annot=True, fmt=\".1f\", cmap=\"crest\", linewidth=0.5)"
   ]
  },
  {
   "cell_type": "code",
   "execution_count": 6,
   "id": "2eb44ad7",
   "metadata": {},
   "outputs": [
    {
     "data": {
      "image/png": "[encoded data removed]",
      "text/plain": [
       "<Figure size 640x480 with 2 Axes>"
      ]
     },
     "metadata": {},
     "output_type": "display_data"
    }
   ],
   "source": [
    "extract_association()"
   ]
  },
  {
   "cell_type": "code",
   "execution_count": 7,
   "id": "1ca9875a",
   "metadata": {},
   "outputs": [],
   "source": [
    "def get_association_rules():    \n",
    "    dataset = get_dataset()   \n",
    "\n",
    "    te = TransactionEncoder()\n",
    "    te_ary = te.fit(dataset).transform(dataset)\n",
    "    df = pd.DataFrame(te_ary, columns=te.columns_)\n",
    "\n",
    "    frequent_itemsets = fpgrowth(df, min_support=0.005, use_colnames=True)\n",
    "    rules = association_rules(frequent_itemsets, metric=\"confidence\", min_threshold=0.1)\n",
    "    \n",
    "    rules = rules.sort_values(by='confidence', ascending=False)\n",
    "    \n",
    "    print(rules)"
   ]
  },
  {
   "cell_type": "code",
   "execution_count": 8,
   "id": "646b7368",
   "metadata": {},
   "outputs": [
    {
     "name": "stdout",
     "output_type": "stream",
     "text": [
      "             antecedents         consequents  antecedent support  \\\n",
      "3         (bottled beer)        (whole milk)            0.046125   \n",
      "18        (citrus fruit)        (whole milk)            0.053125   \n",
      "21          (newspapers)        (whole milk)            0.040125   \n",
      "16         (frankfurter)        (whole milk)            0.037875   \n",
      "10             (sausage)        (whole milk)            0.060875   \n",
      "12           (pip fruit)        (whole milk)            0.050250   \n",
      "1        (bottled water)        (whole milk)            0.060250   \n",
      "9               (yogurt)        (whole milk)            0.086625   \n",
      "19              (pastry)        (whole milk)            0.051125   \n",
      "14      (tropical fruit)        (whole milk)            0.072250   \n",
      "17         (canned beer)        (whole milk)            0.045875   \n",
      "0     (other vegetables)        (whole milk)            0.121500   \n",
      "6        (shopping bags)        (whole milk)            0.048500   \n",
      "20  (whipped/sour cream)  (other vegetables)            0.043000   \n",
      "2           (rolls/buns)        (whole milk)            0.110750   \n",
      "4         (bottled beer)  (other vegetables)            0.046125   \n",
      "5        (shopping bags)        (rolls/buns)            0.048500   \n",
      "7                 (soda)        (whole milk)            0.096250   \n",
      "8                 (soda)  (other vegetables)            0.096250   \n",
      "13           (pip fruit)  (other vegetables)            0.050250   \n",
      "11             (sausage)              (soda)            0.060875   \n",
      "15      (tropical fruit)        (rolls/buns)            0.072250   \n",
      "\n",
      "    consequent support   support  confidence      lift  leverage  conviction  \\\n",
      "3              0.15475  0.007125    0.154472  0.998201 -0.000013    0.999671   \n",
      "18             0.15475  0.008000    0.150588  0.973107 -0.000221    0.995100   \n",
      "21             0.15475  0.005750    0.143302  0.926024 -0.000459    0.986637   \n",
      "16             0.15475  0.005375    0.141914  0.917055 -0.000486    0.985041   \n",
      "10             0.15475  0.008500    0.139630  0.902297 -0.000920    0.982427   \n",
      "12             0.15475  0.006625    0.131841  0.851960 -0.001151    0.973612   \n",
      "1              0.15475  0.007875    0.130705  0.844623 -0.001449    0.972340   \n",
      "9              0.15475  0.011000    0.126984  0.820576 -0.002405    0.968195   \n",
      "19             0.15475  0.006375    0.124694  0.805779 -0.001537    0.965663   \n",
      "14             0.15475  0.009000    0.124567  0.804959 -0.002181    0.965523   \n",
      "17             0.15475  0.005625    0.122616  0.792348 -0.001474    0.963375   \n",
      "0              0.15475  0.014750    0.121399  0.784486 -0.004052    0.962041   \n",
      "6              0.15475  0.005750    0.118557  0.766118 -0.001755    0.958939   \n",
      "20             0.12150  0.005000    0.116279  0.957029 -0.000224    0.994092   \n",
      "2              0.15475  0.012625    0.113995  0.736643 -0.004514    0.954002   \n",
      "4              0.12150  0.005000    0.108401  0.892190 -0.000604    0.985309   \n",
      "5              0.11075  0.005125    0.105670  0.954132 -0.000246    0.994320   \n",
      "7              0.15475  0.010125    0.105195  0.679773 -0.004770    0.944619   \n",
      "8              0.12150  0.009875    0.102597  0.844423 -0.001819    0.978936   \n",
      "13             0.12150  0.005125    0.101990  0.839424 -0.000980    0.978274   \n",
      "11             0.09625  0.006125    0.100616  1.045361  0.000266    1.004854   \n",
      "15             0.11075  0.007250    0.100346  0.906059 -0.000752    0.988436   \n",
      "\n",
      "    zhangs_metric  \n",
      "3       -0.001886  \n",
      "18      -0.028360  \n",
      "21      -0.076831  \n",
      "16      -0.085930  \n",
      "10      -0.103382  \n",
      "12      -0.154661  \n",
      "1       -0.163708  \n",
      "9       -0.193154  \n",
      "19      -0.202565  \n",
      "14      -0.207084  \n",
      "17      -0.215485  \n",
      "0       -0.238220  \n",
      "6       -0.242908  \n",
      "20      -0.044815  \n",
      "2       -0.286751  \n",
      "4       -0.112437  \n",
      "5       -0.048094  \n",
      "7       -0.342646  \n",
      "8       -0.169340  \n",
      "13      -0.167647  \n",
      "11       0.046206  \n",
      "15      -0.100522  \n"
     ]
    }
   ],
   "source": [
    "get_association_rules()"
   ]
  },
  {
   "cell_type": "markdown",
   "id": "e65c7ccf",
   "metadata": {},
   "source": [
    "The confidence value is 0.154472"
   ]
  },
  {
   "cell_type": "markdown",
   "id": "e2fe9fc8",
   "metadata": {},
   "source": [
    "# Image Classification using CNN "
   ]
  },
  {
   "cell_type": "code",
   "execution_count": 9,
   "id": "de2a43a8",
   "metadata": {},
   "outputs": [],
   "source": [
    "def grayscale_conversion():\n",
    "    folders = [\"n02102318-cocker_spaniel\", \"n02105056-groenendael\", \"n02106382-Bouvier_des_Flandres\",\n",
    "               \"n02107574-Greater_Swiss_Mountain_dog\"]\n",
    "    \n",
    "    no_of_images = []\n",
    "    for folder in folders:\n",
    "        files = [f for f in os.listdir(f\"../Cropped/{folder}\") if os.path.isfile(os.path.join(f\"../Cropped/{folder}\", f))]\n",
    "        no_of_images.append(len(files))\n",
    "\n",
    "    collect = {}\n",
    "    for folder, count in zip(folders, no_of_images):\n",
    "        all_files = os.listdir(f\"../Cropped/{folder}\")\n",
    "        collect[folder] = all_files\n",
    "        \n",
    "    \n",
    "    grayscaled_images = {}\n",
    "    for folder, images in collect.items():\n",
    "        combine = []\n",
    "        for img in images:\n",
    "            path = f\"../Cropped/{folder}/{img}\"\n",
    "            loaded_image = cv.imread(path)\n",
    "            combine.append(cv.cvtColor(loaded_image, cv.COLOR_BGR2GRAY))\n",
    "        grayscaled_images[folder] = combine\n",
    "    \n",
    "    return grayscaled_images "
   ]
  },
  {
   "cell_type": "code",
   "execution_count": 10,
   "id": "deadff01",
   "metadata": {},
   "outputs": [],
   "source": [
    "def split_dataset():\n",
    "    grayscaled_images = grayscale_conversion()\n",
    "    \n",
    "    training_set = {}\n",
    "    testing_set = {}\n",
    "    for folder in grayscaled_images:\n",
    "        perce_80 = int(len(grayscaled_images[folder]) * 0.8)\n",
    "        training_set[folder] = random.sample(grayscaled_images[folder], perce_80)\n",
    " \n",
    "    for folder, images in grayscaled_images.items():\n",
    "        combine = []\n",
    "        for img in images:\n",
    "            if not np.all(np.equal(img, training_set[folder]), axis=1).any():\n",
    "                combine.append(img)             \n",
    "        testing_set[folder] = combine\n",
    "    \n",
    "    return training_set, testing_set"
   ]
  },
  {
   "cell_type": "code",
   "execution_count": 11,
   "id": "edeb4e57",
   "metadata": {},
   "outputs": [],
   "source": [
    "def train_test_split():\n",
    "    training_set, testing_set = split_dataset()\n",
    "    \n",
    "    X_train, y_train, X_test, y_test = ([] for i in range(4))\n",
    "    \n",
    "    count = 0\n",
    "    for training_folder in training_set:\n",
    "        for training_image in training_set[training_folder]:\n",
    "            X_train.append(training_image.ravel())\n",
    "            y_train.append(count)\n",
    "        count += 1\n",
    "    \n",
    "    count = 0\n",
    "    for testing_folder in testing_set:\n",
    "        for testing_image in testing_set[testing_folder]:\n",
    "            X_test.append(testing_image.ravel())\n",
    "            y_test.append(count)\n",
    "        count += 1\n",
    "    \n",
    "    X_train = np.array(X_train)\n",
    "    y_train = np.array(y_train)\n",
    "    X_test = np.array(X_test)\n",
    "    y_test = np.array(y_test)\n",
    "    \n",
    "    return X_train, y_train, X_test, y_test"
   ]
  },
  {
   "cell_type": "code",
   "execution_count": 12,
   "id": "8779a323",
   "metadata": {},
   "outputs": [],
   "source": [
    "def standardized_dataset():\n",
    "    a, y_train, b, y_test = train_test_split()\n",
    "     \n",
    "    standard = StandardScaler()\n",
    "    X_train = standard.fit_transform(a)\n",
    "    X_test = standard.transform(b)\n",
    "        \n",
    "    return X_train, y_train, X_test, y_test"
   ]
  },
  {
   "cell_type": "code",
   "execution_count": 13,
   "id": "19e9991a",
   "metadata": {},
   "outputs": [],
   "source": [
    "def images_classifier():\n",
    "    num_classes = 4\n",
    "    input_shape = (100, 100, 1)\n",
    "    \n",
    "    model = keras.Sequential(\n",
    "    [\n",
    "        keras.Input(shape=input_shape), \n",
    "        layers.Conv2D(8, kernel_size=(3, 3), activation=\"relu\"), \n",
    "        layers.MaxPooling2D(pool_size=(2, 2)), \n",
    "        layers.Flatten(), \n",
    "        layers.Dense(16, activation=\"relu\"),\n",
    "        layers.Dense(num_classes, activation=\"softmax\")\n",
    "    ]\n",
    "    )\n",
    "    \n",
    "    model.summary()\n",
    "    \n",
    "    return model"
   ]
  },
  {
   "cell_type": "code",
   "execution_count": 14,
   "id": "f0f5d7e6",
   "metadata": {},
   "outputs": [],
   "source": [
    "def train_model():\n",
    "    batch_size = 128\n",
    "    num_epochs = 30\n",
    "    model = images_classifier()\n",
    "    X_train, y_train, X_test, y_test = standardized_dataset()\n",
    "    \n",
    "    X_train = np.reshape(X_train, (X_train.shape[0], 100, 100, 1))\n",
    "    X_test = np.reshape(X_test, (X_test.shape[0], 100, 100, 1))\n",
    "    \n",
    "    y_train = to_categorical(y_train, num_classes=4)\n",
    "    y_test = to_categorical(y_test, num_classes=4)\n",
    "    \n",
    "    model.compile(loss=\"categorical_crossentropy\", optimizer=\"adam\", metrics=[\"accuracy\"])\n",
    "    history = model.fit(X_train, y_train, batch_size=batch_size, epochs=num_epochs, validation_split=0.2)\n",
    "    \n",
    "    return model, history, X_test, y_test"
   ]
  },
  {
   "cell_type": "code",
   "execution_count": 15,
   "id": "5cb7c7b8",
   "metadata": {
    "scrolled": false
   },
   "outputs": [],
   "source": [
    "def model_evaluation():\n",
    "    model, history, X_test, y_test = train_model()\n",
    "    score = model.evaluate(X_test, y_test, verbose=0)\n",
    "    print(\"\\n\\nTest loss:\", score[0])\n",
    "    print(\"Test accuracy:\", score[1])\n",
    "    \n",
    "    return history"
   ]
  },
  {
   "cell_type": "code",
   "execution_count": 16,
   "id": "9f1a31db",
   "metadata": {
    "scrolled": false
   },
   "outputs": [
    {
     "name": "stdout",
     "output_type": "stream",
     "text": [
      "WARNING:tensorflow:From C:\\Users\\noill\\AppData\\Local\\Programs\\Python\\Python310\\lib\\site-packages\\keras\\src\\backend.py:1398: The name tf.executing_eagerly_outside_functions is deprecated. Please use tf.compat.v1.executing_eagerly_outside_functions instead.\n",
      "\n",
      "WARNING:tensorflow:From C:\\Users\\noill\\AppData\\Local\\Programs\\Python\\Python310\\lib\\site-packages\\keras\\src\\layers\\pooling\\max_pooling2d.py:161: The name tf.nn.max_pool is deprecated. Please use tf.nn.max_pool2d instead.\n",
      "\n",
      "Model: \"sequential\"\n",
      "_________________________________________________________________\n",
      " Layer (type)                Output Shape              Param #   \n",
      "=================================================================\n",
      " conv2d (Conv2D)             (None, 98, 98, 8)         80        \n",
      "                                                                 \n",
      " max_pooling2d (MaxPooling2  (None, 49, 49, 8)         0         \n",
      " D)                                                              \n",
      "                                                                 \n",
      " flatten (Flatten)           (None, 19208)             0         \n",
      "                                                                 \n",
      " dense (Dense)               (None, 16)                307344    \n",
      "                                                                 \n",
      " dense_1 (Dense)             (None, 4)                 68        \n",
      "                                                                 \n",
      "=================================================================\n",
      "Total params: 307492 (1.17 MB)\n",
      "Trainable params: 307492 (1.17 MB)\n",
      "Non-trainable params: 0 (0.00 Byte)\n",
      "_________________________________________________________________\n",
      "WARNING:tensorflow:From C:\\Users\\noill\\AppData\\Local\\Programs\\Python\\Python310\\lib\\site-packages\\keras\\src\\optimizers\\__init__.py:309: The name tf.train.Optimizer is deprecated. Please use tf.compat.v1.train.Optimizer instead.\n",
      "\n",
      "Epoch 1/30\n",
      "WARNING:tensorflow:From C:\\Users\\noill\\AppData\\Local\\Programs\\Python\\Python310\\lib\\site-packages\\keras\\src\\utils\\tf_utils.py:492: The name tf.ragged.RaggedTensorValue is deprecated. Please use tf.compat.v1.ragged.RaggedTensorValue instead.\n",
      "\n",
      "WARNING:tensorflow:From C:\\Users\\noill\\AppData\\Local\\Programs\\Python\\Python310\\lib\\site-packages\\keras\\src\\engine\\base_layer_utils.py:384: The name tf.executing_eagerly_outside_functions is deprecated. Please use tf.compat.v1.executing_eagerly_outside_functions instead.\n",
      "\n",
      "4/4 [==============================] - 2s 176ms/step - loss: 1.7956 - accuracy: 0.3301 - val_loss: 1.2717 - val_accuracy: 0.2692\n",
      "Epoch 2/30\n",
      "4/4 [==============================] - 0s 45ms/step - loss: 1.3190 - accuracy: 0.4771 - val_loss: 2.5457 - val_accuracy: 0.0096\n",
      "Epoch 3/30\n",
      "4/4 [==============================] - 0s 57ms/step - loss: 1.0844 - accuracy: 0.5349 - val_loss: 1.7126 - val_accuracy: 0.2212\n",
      "Epoch 4/30\n",
      "4/4 [==============================] - 0s 52ms/step - loss: 0.9709 - accuracy: 0.5687 - val_loss: 1.4852 - val_accuracy: 0.3365\n",
      "Epoch 5/30\n",
      "4/4 [==============================] - 0s 56ms/step - loss: 0.9578 - accuracy: 0.5639 - val_loss: 2.2574 - val_accuracy: 0.0673\n",
      "Epoch 6/30\n",
      "4/4 [==============================] - 0s 48ms/step - loss: 0.8915 - accuracy: 0.6145 - val_loss: 2.0468 - val_accuracy: 0.1635\n",
      "Epoch 7/30\n",
      "4/4 [==============================] - 0s 51ms/step - loss: 0.8108 - accuracy: 0.6651 - val_loss: 1.5626 - val_accuracy: 0.4038\n",
      "Epoch 8/30\n",
      "4/4 [==============================] - 0s 47ms/step - loss: 0.7681 - accuracy: 0.6867 - val_loss: 1.2624 - val_accuracy: 0.5481\n",
      "Epoch 9/30\n",
      "4/4 [==============================] - 0s 52ms/step - loss: 0.7056 - accuracy: 0.7108 - val_loss: 1.8708 - val_accuracy: 0.3365\n",
      "Epoch 10/30\n",
      "4/4 [==============================] - 0s 49ms/step - loss: 0.6469 - accuracy: 0.7470 - val_loss: 2.2817 - val_accuracy: 0.2115\n",
      "Epoch 11/30\n",
      "4/4 [==============================] - 0s 49ms/step - loss: 0.5905 - accuracy: 0.7807 - val_loss: 2.0359 - val_accuracy: 0.3077\n",
      "Epoch 12/30\n",
      "4/4 [==============================] - 0s 47ms/step - loss: 0.5456 - accuracy: 0.8024 - val_loss: 1.6534 - val_accuracy: 0.4615\n",
      "Epoch 13/30\n",
      "4/4 [==============================] - 0s 50ms/step - loss: 0.5113 - accuracy: 0.8145 - val_loss: 1.7565 - val_accuracy: 0.3654\n",
      "Epoch 14/30\n",
      "4/4 [==============================] - 0s 54ms/step - loss: 0.4584 - accuracy: 0.8434 - val_loss: 1.8283 - val_accuracy: 0.4231\n",
      "Epoch 15/30\n",
      "4/4 [==============================] - 0s 50ms/step - loss: 0.4239 - accuracy: 0.8651 - val_loss: 2.0326 - val_accuracy: 0.3365\n",
      "Epoch 16/30\n",
      "4/4 [==============================] - 0s 52ms/step - loss: 0.3997 - accuracy: 0.8554 - val_loss: 1.7399 - val_accuracy: 0.4423\n",
      "Epoch 17/30\n",
      "4/4 [==============================] - 0s 54ms/step - loss: 0.3672 - accuracy: 0.8819 - val_loss: 1.7503 - val_accuracy: 0.4327\n",
      "Epoch 18/30\n",
      "4/4 [==============================] - 0s 56ms/step - loss: 0.3274 - accuracy: 0.9036 - val_loss: 2.3727 - val_accuracy: 0.1923\n",
      "Epoch 19/30\n",
      "4/4 [==============================] - 0s 50ms/step - loss: 0.3050 - accuracy: 0.9036 - val_loss: 1.5846 - val_accuracy: 0.5096\n",
      "Epoch 20/30\n",
      "4/4 [==============================] - 0s 49ms/step - loss: 0.2860 - accuracy: 0.9060 - val_loss: 1.8238 - val_accuracy: 0.4038\n",
      "Epoch 21/30\n",
      "4/4 [==============================] - 0s 53ms/step - loss: 0.2539 - accuracy: 0.9349 - val_loss: 2.3133 - val_accuracy: 0.2788\n",
      "Epoch 22/30\n",
      "4/4 [==============================] - 0s 50ms/step - loss: 0.2407 - accuracy: 0.9349 - val_loss: 1.9625 - val_accuracy: 0.3558\n",
      "Epoch 23/30\n",
      "4/4 [==============================] - 0s 49ms/step - loss: 0.1979 - accuracy: 0.9590 - val_loss: 1.5448 - val_accuracy: 0.5385\n",
      "Epoch 24/30\n",
      "4/4 [==============================] - 0s 55ms/step - loss: 0.1815 - accuracy: 0.9663 - val_loss: 1.8878 - val_accuracy: 0.4327\n",
      "Epoch 25/30\n",
      "4/4 [==============================] - 0s 53ms/step - loss: 0.1683 - accuracy: 0.9687 - val_loss: 1.9119 - val_accuracy: 0.4327\n",
      "Epoch 26/30\n",
      "4/4 [==============================] - 0s 51ms/step - loss: 0.1558 - accuracy: 0.9639 - val_loss: 1.9273 - val_accuracy: 0.4712\n",
      "Epoch 27/30\n",
      "4/4 [==============================] - 0s 52ms/step - loss: 0.1399 - accuracy: 0.9783 - val_loss: 2.2634 - val_accuracy: 0.3462\n",
      "Epoch 28/30\n",
      "4/4 [==============================] - 0s 51ms/step - loss: 0.1328 - accuracy: 0.9687 - val_loss: 1.8669 - val_accuracy: 0.5000\n",
      "Epoch 29/30\n",
      "4/4 [==============================] - 0s 53ms/step - loss: 0.1119 - accuracy: 0.9880 - val_loss: 2.2689 - val_accuracy: 0.4038\n",
      "Epoch 30/30\n",
      "4/4 [==============================] - 0s 55ms/step - loss: 0.0985 - accuracy: 0.9880 - val_loss: 2.5263 - val_accuracy: 0.3365\n",
      "\n",
      "\n",
      "Test loss: 1.5760055780410767\n",
      "Test accuracy: 0.5833333134651184\n"
     ]
    }
   ],
   "source": [
    "model = model_evaluation()"
   ]
  },
  {
   "cell_type": "code",
   "execution_count": 17,
   "id": "57ac373d",
   "metadata": {},
   "outputs": [
    {
     "data": {
      "image/png": "[encoded data removed]",
      "text/plain": [
       "<Figure size 640x480 with 1 Axes>"
      ]
     },
     "metadata": {},
     "output_type": "display_data"
    }
   ],
   "source": [
    "def plot_learning_curve():    \n",
    "    plt.plot(model.history[\"accuracy\"], label=\"Training Accuracy\")\n",
    "    plt.plot(model.history[\"val_accuracy\"], label=\"Validation Accuracy\")\n",
    "    plt.xlabel(\"Number of epochs\")\n",
    "    plt.ylabel(\"Training and validation accuracy\")\n",
    "    plt.title(\"Learning curve for 3x3\")\n",
    "    plt.grid(True)\n",
    "    plt.show()\n",
    "    \n",
    "plot_learning_curve()"
   ]
  },
  {
   "cell_type": "markdown",
   "id": "6d103ccc",
   "metadata": {},
   "source": [
    "# The last digit of my banner id is 1"
   ]
  },
  {
   "cell_type": "code",
   "execution_count": 18,
   "id": "38e48261",
   "metadata": {},
   "outputs": [],
   "source": [
    "def cnn_classifier_1():\n",
    "    num_classes = 4\n",
    "    input_shape = (100, 100, 1)\n",
    "    \n",
    "    model = keras.Sequential(\n",
    "    [\n",
    "        keras.Input(shape=input_shape), \n",
    "        layers.Conv2D(16, kernel_size=(5, 5), activation=\"relu\"),\n",
    "        layers.MaxPooling2D(pool_size=(2, 2)), \n",
    "        layers.Flatten(), \n",
    "        layers.Dense(16, activation=\"relu\"),\n",
    "        layers.Dense(num_classes, activation=\"softmax\")\n",
    "    ]\n",
    "    )\n",
    "    \n",
    "    model.summary()\n",
    "    \n",
    "    return model"
   ]
  },
  {
   "cell_type": "code",
   "execution_count": 19,
   "id": "b21a4e4c",
   "metadata": {},
   "outputs": [],
   "source": [
    "def fit_model_1():\n",
    "    batch_size = 128\n",
    "    num_epochs = 30\n",
    "    model = cnn_classifier_1()\n",
    "    X_train, y_train, X_test, y_test = standardized_dataset()\n",
    "    \n",
    "    X_train = np.reshape(X_train, (X_train.shape[0], 100, 100, 1))\n",
    "    X_test = np.reshape(X_test, (X_test.shape[0], 100, 100, 1))\n",
    "    \n",
    "    y_train = to_categorical(y_train, num_classes=4)\n",
    "    y_test = to_categorical(y_test, num_classes=4)\n",
    "    \n",
    "    model.compile(loss=\"categorical_crossentropy\", optimizer=\"adam\", metrics=[\"accuracy\"])\n",
    "    history = model.fit(X_train, y_train, batch_size=batch_size, epochs=num_epochs, validation_split=0.2)\n",
    "    \n",
    "    return model, history, X_test, y_test"
   ]
  },
  {
   "cell_type": "code",
   "execution_count": 20,
   "id": "ef6d1168",
   "metadata": {},
   "outputs": [],
   "source": [
    "def evaluate_model_1():\n",
    "    model, history, X_test, y_test = fit_model_1()\n",
    "    score = model.evaluate(X_test, y_test, verbose=0)\n",
    "    print(\"\\n\\nTest loss:\", score[0])\n",
    "    print(\"Test accuracy:\", score[1])\n",
    "    \n",
    "    return history"
   ]
  },
  {
   "cell_type": "code",
   "execution_count": 21,
   "id": "180e7315",
   "metadata": {
    "scrolled": false
   },
   "outputs": [
    {
     "name": "stdout",
     "output_type": "stream",
     "text": [
      "Model: \"sequential_1\"\n",
      "_________________________________________________________________\n",
      " Layer (type)                Output Shape              Param #   \n",
      "=================================================================\n",
      " conv2d_1 (Conv2D)           (None, 96, 96, 16)        416       \n",
      "                                                                 \n",
      " max_pooling2d_1 (MaxPoolin  (None, 48, 48, 16)        0         \n",
      " g2D)                                                            \n",
      "                                                                 \n",
      " flatten_1 (Flatten)         (None, 36864)             0         \n",
      "                                                                 \n",
      " dense_2 (Dense)             (None, 16)                589840    \n",
      "                                                                 \n",
      " dense_3 (Dense)             (None, 4)                 68        \n",
      "                                                                 \n",
      "=================================================================\n",
      "Total params: 590324 (2.25 MB)\n",
      "Trainable params: 590324 (2.25 MB)\n",
      "Non-trainable params: 0 (0.00 Byte)\n",
      "_________________________________________________________________\n",
      "Epoch 1/30\n",
      "4/4 [==============================] - 2s 189ms/step - loss: 1.9446 - accuracy: 0.3036 - val_loss: 1.4233 - val_accuracy: 0.0000e+00\n",
      "Epoch 2/30\n",
      "4/4 [==============================] - 0s 67ms/step - loss: 1.2991 - accuracy: 0.3133 - val_loss: 1.4101 - val_accuracy: 0.0000e+00\n",
      "Epoch 3/30\n",
      "4/4 [==============================] - 0s 68ms/step - loss: 1.2551 - accuracy: 0.4675 - val_loss: 1.4045 - val_accuracy: 0.0000e+00\n",
      "Epoch 4/30\n",
      "4/4 [==============================] - 0s 71ms/step - loss: 1.2146 - accuracy: 0.4843 - val_loss: 1.5737 - val_accuracy: 0.0000e+00\n",
      "Epoch 5/30\n",
      "4/4 [==============================] - 0s 78ms/step - loss: 1.2025 - accuracy: 0.4843 - val_loss: 1.5458 - val_accuracy: 0.0000e+00\n",
      "Epoch 6/30\n",
      "4/4 [==============================] - 0s 74ms/step - loss: 1.1661 - accuracy: 0.5157 - val_loss: 1.4600 - val_accuracy: 0.0000e+00\n",
      "Epoch 7/30\n",
      "4/4 [==============================] - 0s 67ms/step - loss: 1.1569 - accuracy: 0.5205 - val_loss: 1.5454 - val_accuracy: 0.0000e+00\n",
      "Epoch 8/30\n",
      "4/4 [==============================] - 0s 67ms/step - loss: 1.1365 - accuracy: 0.5133 - val_loss: 1.5883 - val_accuracy: 0.0000e+00\n",
      "Epoch 9/30\n",
      "4/4 [==============================] - 0s 70ms/step - loss: 1.1257 - accuracy: 0.5157 - val_loss: 1.5451 - val_accuracy: 0.0000e+00\n",
      "Epoch 10/30\n",
      "4/4 [==============================] - 0s 73ms/step - loss: 1.1169 - accuracy: 0.5325 - val_loss: 1.5011 - val_accuracy: 0.0000e+00\n",
      "Epoch 11/30\n",
      "4/4 [==============================] - 0s 71ms/step - loss: 1.1011 - accuracy: 0.5349 - val_loss: 1.6268 - val_accuracy: 0.0000e+00\n",
      "Epoch 12/30\n",
      "4/4 [==============================] - 0s 78ms/step - loss: 1.0893 - accuracy: 0.5157 - val_loss: 1.5495 - val_accuracy: 0.0000e+00\n",
      "Epoch 13/30\n",
      "4/4 [==============================] - 0s 77ms/step - loss: 1.0899 - accuracy: 0.5373 - val_loss: 1.5046 - val_accuracy: 0.0000e+00\n",
      "Epoch 14/30\n",
      "4/4 [==============================] - 0s 72ms/step - loss: 1.0700 - accuracy: 0.5422 - val_loss: 1.7257 - val_accuracy: 0.0000e+00\n",
      "Epoch 15/30\n",
      "4/4 [==============================] - 0s 73ms/step - loss: 1.0739 - accuracy: 0.5036 - val_loss: 1.6079 - val_accuracy: 0.0000e+00\n",
      "Epoch 16/30\n",
      "4/4 [==============================] - 0s 71ms/step - loss: 1.0569 - accuracy: 0.5494 - val_loss: 1.5662 - val_accuracy: 0.0000e+00\n",
      "Epoch 17/30\n",
      "4/4 [==============================] - 0s 77ms/step - loss: 1.0455 - accuracy: 0.5518 - val_loss: 1.7654 - val_accuracy: 0.0000e+00\n",
      "Epoch 18/30\n",
      "4/4 [==============================] - 0s 70ms/step - loss: 1.0546 - accuracy: 0.5133 - val_loss: 1.6237 - val_accuracy: 0.0000e+00\n",
      "Epoch 19/30\n",
      "4/4 [==============================] - 0s 72ms/step - loss: 1.0429 - accuracy: 0.5518 - val_loss: 1.5408 - val_accuracy: 0.0000e+00\n",
      "Epoch 20/30\n",
      "4/4 [==============================] - 0s 68ms/step - loss: 1.0366 - accuracy: 0.5542 - val_loss: 1.7503 - val_accuracy: 0.0000e+00\n",
      "Epoch 21/30\n",
      "4/4 [==============================] - 0s 63ms/step - loss: 1.0441 - accuracy: 0.5181 - val_loss: 1.6952 - val_accuracy: 0.0000e+00\n",
      "Epoch 22/30\n",
      "4/4 [==============================] - 0s 74ms/step - loss: 1.0252 - accuracy: 0.5590 - val_loss: 1.5768 - val_accuracy: 0.0000e+00\n",
      "Epoch 23/30\n",
      "4/4 [==============================] - 0s 71ms/step - loss: 1.0286 - accuracy: 0.5590 - val_loss: 1.7292 - val_accuracy: 0.0000e+00\n",
      "Epoch 24/30\n",
      "4/4 [==============================] - 0s 73ms/step - loss: 1.0181 - accuracy: 0.5446 - val_loss: 1.8674 - val_accuracy: 0.0000e+00\n",
      "Epoch 25/30\n",
      "4/4 [==============================] - 0s 64ms/step - loss: 1.0103 - accuracy: 0.5518 - val_loss: 1.6968 - val_accuracy: 0.0000e+00\n",
      "Epoch 26/30\n",
      "4/4 [==============================] - 0s 67ms/step - loss: 1.0085 - accuracy: 0.5590 - val_loss: 1.6951 - val_accuracy: 0.0000e+00\n",
      "Epoch 27/30\n",
      "4/4 [==============================] - 0s 67ms/step - loss: 1.0049 - accuracy: 0.5614 - val_loss: 1.7717 - val_accuracy: 0.0000e+00\n",
      "Epoch 28/30\n",
      "4/4 [==============================] - 0s 67ms/step - loss: 1.0019 - accuracy: 0.5542 - val_loss: 1.7983 - val_accuracy: 0.0000e+00\n",
      "Epoch 29/30\n",
      "4/4 [==============================] - 0s 70ms/step - loss: 0.9986 - accuracy: 0.5590 - val_loss: 1.8207 - val_accuracy: 0.0000e+00\n",
      "Epoch 30/30\n",
      "4/4 [==============================] - 0s 66ms/step - loss: 0.9969 - accuracy: 0.5566 - val_loss: 1.8512 - val_accuracy: 0.0000e+00\n",
      "\n",
      "\n",
      "Test loss: 1.336745023727417\n",
      "Test accuracy: 0.3787878751754761\n"
     ]
    }
   ],
   "source": [
    "history_1 = evaluate_model_1()"
   ]
  },
  {
   "cell_type": "code",
   "execution_count": 22,
   "id": "c19c7e0b",
   "metadata": {},
   "outputs": [
    {
     "data": {
      "image/png": "[encoded data removed]",
      "text/plain": [
       "<Figure size 640x480 with 1 Axes>"
      ]
     },
     "metadata": {},
     "output_type": "display_data"
    }
   ],
   "source": [
    "def plot_new_curve_1():    \n",
    "    plt.plot(history_1.history[\"accuracy\"], label=\"Training Accuracy\")\n",
    "    plt.plot(history_1.history[\"val_accuracy\"], label=\"Validation Accuracy\")\n",
    "    plt.xlabel(\"Number of epochs\")\n",
    "    plt.ylabel(\"Training and validation accuracy\")\n",
    "    plt.title(\"Learning curve for 5x5\")\n",
    "    plt.grid(True)\n",
    "    plt.show()\n",
    "    \n",
    "plot_new_curve_1()"
   ]
  },
  {
   "cell_type": "code",
   "execution_count": 23,
   "id": "ebaa11f0",
   "metadata": {},
   "outputs": [],
   "source": [
    "def cnn_classifier_2():\n",
    "    num_classes = 4\n",
    "    input_shape = (100, 100, 1)\n",
    "    \n",
    "    model = keras.Sequential(\n",
    "    [\n",
    "        keras.Input(shape=input_shape), \n",
    "        layers.Conv2D(16, kernel_size=(7, 7), activation=\"relu\"),\n",
    "        layers.MaxPooling2D(pool_size=(2, 2)), \n",
    "        layers.Flatten(), \n",
    "        layers.Dense(16, activation=\"relu\"),\n",
    "        layers.Dense(num_classes, activation=\"softmax\")\n",
    "    ]\n",
    "    )\n",
    "    \n",
    "    model.summary()\n",
    "    \n",
    "    return model"
   ]
  },
  {
   "cell_type": "code",
   "execution_count": 24,
   "id": "c953890a",
   "metadata": {},
   "outputs": [],
   "source": [
    "def fit_model_2():\n",
    "    batch_size = 128\n",
    "    num_epochs = 30\n",
    "    model = cnn_classifier_2()\n",
    "    X_train, y_train, X_test, y_test = standardized_dataset()\n",
    "    \n",
    "    X_train = np.reshape(X_train, (X_train.shape[0], 100, 100, 1))\n",
    "    X_test = np.reshape(X_test, (X_test.shape[0], 100, 100, 1))\n",
    "    \n",
    "    y_train = to_categorical(y_train, num_classes=4)\n",
    "    y_test = to_categorical(y_test, num_classes=4)\n",
    "    \n",
    "    model.compile(loss=\"categorical_crossentropy\", optimizer=\"adam\", metrics=[\"accuracy\"])\n",
    "    history = model.fit(X_train, y_train, batch_size=batch_size, epochs=num_epochs, validation_split=0.2)\n",
    "    \n",
    "    return model, history, X_test, y_test"
   ]
  },
  {
   "cell_type": "code",
   "execution_count": 25,
   "id": "00182f15",
   "metadata": {},
   "outputs": [],
   "source": [
    "def evaluate_model_2():\n",
    "    model, history, X_test, y_test = fit_model_2()\n",
    "    score = model.evaluate(X_test, y_test, verbose=0)\n",
    "    print(\"\\n\\nTest loss:\", score[0])\n",
    "    print(\"Test accuracy:\", score[1])\n",
    "    \n",
    "    return history"
   ]
  },
  {
   "cell_type": "code",
   "execution_count": 26,
   "id": "19fe9c16",
   "metadata": {
    "scrolled": false
   },
   "outputs": [
    {
     "name": "stdout",
     "output_type": "stream",
     "text": [
      "Model: \"sequential_2\"\n",
      "_________________________________________________________________\n",
      " Layer (type)                Output Shape              Param #   \n",
      "=================================================================\n",
      " conv2d_2 (Conv2D)           (None, 94, 94, 16)        800       \n",
      "                                                                 \n",
      " max_pooling2d_2 (MaxPoolin  (None, 47, 47, 16)        0         \n",
      " g2D)                                                            \n",
      "                                                                 \n",
      " flatten_2 (Flatten)         (None, 35344)             0         \n",
      "                                                                 \n",
      " dense_4 (Dense)             (None, 16)                565520    \n",
      "                                                                 \n",
      " dense_5 (Dense)             (None, 4)                 68        \n",
      "                                                                 \n",
      "=================================================================\n",
      "Total params: 566388 (2.16 MB)\n",
      "Trainable params: 566388 (2.16 MB)\n",
      "Non-trainable params: 0 (0.00 Byte)\n",
      "_________________________________________________________________\n",
      "Epoch 1/30\n",
      "4/4 [==============================] - 2s 200ms/step - loss: 1.9497 - accuracy: 0.4072 - val_loss: 2.7895 - val_accuracy: 0.0000e+00\n",
      "Epoch 2/30\n",
      "4/4 [==============================] - 0s 77ms/step - loss: 1.3111 - accuracy: 0.3976 - val_loss: 1.2290 - val_accuracy: 0.0000e+00\n",
      "Epoch 3/30\n",
      "4/4 [==============================] - 0s 81ms/step - loss: 1.1998 - accuracy: 0.4386 - val_loss: 1.7367 - val_accuracy: 0.0000e+00\n",
      "Epoch 4/30\n",
      "4/4 [==============================] - 0s 77ms/step - loss: 1.1344 - accuracy: 0.4602 - val_loss: 1.5066 - val_accuracy: 0.0000e+00\n",
      "Epoch 5/30\n",
      "4/4 [==============================] - 0s 81ms/step - loss: 0.9285 - accuracy: 0.6145 - val_loss: 2.4979 - val_accuracy: 0.0000e+00\n",
      "Epoch 6/30\n",
      "4/4 [==============================] - 0s 87ms/step - loss: 0.8128 - accuracy: 0.6482 - val_loss: 3.3371 - val_accuracy: 0.0000e+00\n",
      "Epoch 7/30\n",
      "4/4 [==============================] - 0s 72ms/step - loss: 0.7813 - accuracy: 0.6554 - val_loss: 2.2611 - val_accuracy: 0.0288\n",
      "Epoch 8/30\n",
      "4/4 [==============================] - 0s 74ms/step - loss: 0.6735 - accuracy: 0.7108 - val_loss: 2.0833 - val_accuracy: 0.0288\n",
      "Epoch 9/30\n",
      "4/4 [==============================] - 0s 76ms/step - loss: 0.6139 - accuracy: 0.7614 - val_loss: 2.0402 - val_accuracy: 0.0385\n",
      "Epoch 10/30\n",
      "4/4 [==============================] - 0s 77ms/step - loss: 0.5609 - accuracy: 0.8024 - val_loss: 2.8032 - val_accuracy: 0.0000e+00\n",
      "Epoch 11/30\n",
      "4/4 [==============================] - 0s 78ms/step - loss: 0.5060 - accuracy: 0.8072 - val_loss: 2.6201 - val_accuracy: 0.0481\n",
      "Epoch 12/30\n",
      "4/4 [==============================] - 0s 76ms/step - loss: 0.4382 - accuracy: 0.8265 - val_loss: 2.2064 - val_accuracy: 0.1058\n",
      "Epoch 13/30\n",
      "4/4 [==============================] - 0s 70ms/step - loss: 0.4013 - accuracy: 0.8482 - val_loss: 2.4705 - val_accuracy: 0.0865\n",
      "Epoch 14/30\n",
      "4/4 [==============================] - 0s 77ms/step - loss: 0.3533 - accuracy: 0.8916 - val_loss: 2.7022 - val_accuracy: 0.0673\n",
      "Epoch 15/30\n",
      "4/4 [==============================] - 0s 67ms/step - loss: 0.3145 - accuracy: 0.8988 - val_loss: 3.1080 - val_accuracy: 0.0673\n",
      "Epoch 16/30\n",
      "4/4 [==============================] - 0s 69ms/step - loss: 0.2693 - accuracy: 0.9422 - val_loss: 2.6970 - val_accuracy: 0.0865\n",
      "Epoch 17/30\n",
      "4/4 [==============================] - 0s 75ms/step - loss: 0.2336 - accuracy: 0.9566 - val_loss: 3.1001 - val_accuracy: 0.0962\n",
      "Epoch 18/30\n",
      "4/4 [==============================] - 0s 71ms/step - loss: 0.1994 - accuracy: 0.9663 - val_loss: 2.6378 - val_accuracy: 0.1827\n",
      "Epoch 19/30\n",
      "4/4 [==============================] - 0s 61ms/step - loss: 0.1724 - accuracy: 0.9759 - val_loss: 2.9876 - val_accuracy: 0.1731\n",
      "Epoch 20/30\n",
      "4/4 [==============================] - 0s 72ms/step - loss: 0.1512 - accuracy: 0.9759 - val_loss: 2.9302 - val_accuracy: 0.1731\n",
      "Epoch 21/30\n",
      "4/4 [==============================] - 0s 77ms/step - loss: 0.1280 - accuracy: 0.9880 - val_loss: 3.2718 - val_accuracy: 0.1538\n",
      "Epoch 22/30\n",
      "4/4 [==============================] - 0s 68ms/step - loss: 0.1112 - accuracy: 0.9855 - val_loss: 3.3549 - val_accuracy: 0.1827\n",
      "Epoch 23/30\n",
      "4/4 [==============================] - 0s 64ms/step - loss: 0.0958 - accuracy: 0.9831 - val_loss: 3.0324 - val_accuracy: 0.2500\n",
      "Epoch 24/30\n",
      "4/4 [==============================] - 0s 77ms/step - loss: 0.0831 - accuracy: 0.9904 - val_loss: 3.5231 - val_accuracy: 0.1923\n",
      "Epoch 25/30\n",
      "4/4 [==============================] - 0s 69ms/step - loss: 0.0736 - accuracy: 0.9928 - val_loss: 3.4636 - val_accuracy: 0.1923\n",
      "Epoch 26/30\n",
      "4/4 [==============================] - 0s 72ms/step - loss: 0.0652 - accuracy: 0.9928 - val_loss: 3.5785 - val_accuracy: 0.2019\n",
      "Epoch 27/30\n",
      "4/4 [==============================] - 0s 67ms/step - loss: 0.0576 - accuracy: 0.9976 - val_loss: 3.8377 - val_accuracy: 0.1827\n",
      "Epoch 28/30\n",
      "4/4 [==============================] - 0s 75ms/step - loss: 0.0510 - accuracy: 0.9976 - val_loss: 3.7810 - val_accuracy: 0.1923\n",
      "Epoch 29/30\n",
      "4/4 [==============================] - 0s 75ms/step - loss: 0.0445 - accuracy: 0.9976 - val_loss: 4.0423 - val_accuracy: 0.1731\n",
      "Epoch 30/30\n",
      "4/4 [==============================] - 0s 87ms/step - loss: 0.0388 - accuracy: 0.9976 - val_loss: 4.1654 - val_accuracy: 0.1827\n",
      "\n",
      "\n",
      "Test loss: 2.1346819400787354\n",
      "Test accuracy: 0.469696968793869\n"
     ]
    }
   ],
   "source": [
    "history_2 = evaluate_model_2()"
   ]
  },
  {
   "cell_type": "code",
   "execution_count": 27,
   "id": "8e420e08",
   "metadata": {},
   "outputs": [
    {
     "data": {
      "image/png": "[encoded data removed]",
      "text/plain": [
       "<Figure size 640x480 with 1 Axes>"
      ]
     },
     "metadata": {},
     "output_type": "display_data"
    }
   ],
   "source": [
    "def plot_new_curve_2():    \n",
    "    plt.plot(history_2.history[\"accuracy\"], label=\"Training Accuracy\")\n",
    "    plt.plot(history_2.history[\"val_accuracy\"], label=\"Validation Accuracy\")\n",
    "    plt.xlabel(\"Number of epochs\")\n",
    "    plt.ylabel(\"Training and validation accuracy\")\n",
    "    plt.title(\"Learning curve for 7x7\")\n",
    "    plt.grid(True)\n",
    "    plt.show()\n",
    "    \n",
    "plot_new_curve_2()"
   ]
  },
  {
   "cell_type": "code",
   "execution_count": 28,
   "id": "bfbc80c9",
   "metadata": {},
   "outputs": [],
   "source": [
    "# it underfits if the accuracy is bad"
   ]
  },
  {
   "cell_type": "code",
   "execution_count": null,
   "id": "79cb10a6",
   "metadata": {},
   "outputs": [],
   "source": []
  },
  {
   "cell_type": "code",
   "execution_count": null,
   "id": "67c1127b",
   "metadata": {},
   "outputs": [],
   "source": []
  }
 ],
 "metadata": {
  "kernelspec": {
   "display_name": "Python 3 (ipykernel)",
   "language": "python",
   "name": "python3"
  },
  "language_info": {
   "codemirror_mode": {
    "name": "ipython",
    "version": 3
   },
   "file_extension": ".py",
   "mimetype": "text/x-python",
   "name": "python",
   "nbconvert_exporter": "python",
   "pygments_lexer": "ipython3",
   "version": "3.10.9"
  }
 },
 "nbformat": 4,
 "nbformat_minor": 5
}
